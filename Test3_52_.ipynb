{
  "nbformat": 4,
  "nbformat_minor": 0,
  "metadata": {
    "colab": {
      "name": "Test3_52%.ipynb",
      "provenance": [],
      "authorship_tag": "ABX9TyNMAN7VRTzONlFc+loXXoXA",
      "include_colab_link": true
    },
    "kernelspec": {
      "name": "python3",
      "display_name": "Python 3"
    },
    "language_info": {
      "name": "python"
    }
  },
  "cells": [
    {
      "cell_type": "markdown",
      "metadata": {
        "id": "view-in-github",
        "colab_type": "text"
      },
      "source": [
        "<a href=\"https://colab.research.google.com/github/ZrowGz/trading-bot/blob/viny/Test3_52_.ipynb\" target=\"_parent\"><img src=\"https://colab.research.google.com/assets/colab-badge.svg\" alt=\"Open In Colab\"/></a>"
      ]
    },
    {
      "cell_type": "code",
      "metadata": {
        "id": "25fu57MUcGpS"
      },
      "source": [
        "# Imports\n",
        "import pandas as pd\n",
        "import numpy as np\n",
        "from sklearn.datasets import make_classification\n",
        "from sklearn.model_selection import train_test_split\n",
        "from sklearn.preprocessing import StandardScaler\n",
        "from tensorflow.keras.models import Sequential\n",
        "from tensorflow.keras.layers import Dense\n",
        "\n",
        "%matplotlib inline"
      ],
      "execution_count": null,
      "outputs": []
    },
    {
      "cell_type": "code",
      "metadata": {
        "colab": {
          "resources": {
            "http://localhost:8080/nbextensions/google.colab/files.js": {
              "data": "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",
              "ok": true,
              "headers": [
                [
                  "content-type",
                  "application/javascript"
                ]
              ],
              "status": 200,
              "status_text": ""
            }
          },
          "base_uri": "https://localhost:8080/",
          "height": 72
        },
        "id": "gnO0xgg8cLsE",
        "outputId": "aeafac45-1a17-45f1-fc70-bddadde3d59b"
      },
      "source": [
        "from google.colab import files\n",
        "\n",
        "csv_file = files.upload()"
      ],
      "execution_count": null,
      "outputs": [
        {
          "output_type": "display_data",
          "data": {
            "text/html": [
              "\n",
              "     <input type=\"file\" id=\"files-7d91fa78-5cab-4d67-9b94-716df18461ac\" name=\"files[]\" multiple disabled\n",
              "        style=\"border:none\" />\n",
              "     <output id=\"result-7d91fa78-5cab-4d67-9b94-716df18461ac\">\n",
              "      Upload widget is only available when the cell has been executed in the\n",
              "      current browser session. Please rerun this cell to enable.\n",
              "      </output>\n",
              "      <script src=\"/nbextensions/google.colab/files.js\"></script> "
            ],
            "text/plain": [
              "<IPython.core.display.HTML object>"
            ]
          },
          "metadata": {}
        },
        {
          "output_type": "stream",
          "name": "stdout",
          "text": [
            "Saving btc_metrics.csv to btc_metrics.csv\n"
          ]
        }
      ]
    },
    {
      "cell_type": "code",
      "metadata": {
        "colab": {
          "base_uri": "https://localhost:8080/",
          "height": 309
        },
        "id": "JEChxUMLcWwo",
        "outputId": "be9a03b3-2e67-4ed3-8f7f-b8a31ed75f37"
      },
      "source": [
        "# Read the bitcoin Glassnode indicator data into a Pandas DataFrame\n",
        "btc_df = pd.read_csv(\"btc_metrics.csv\")\n",
        "\n",
        "# Review the DataFrame\n",
        "btc_df.head()"
      ],
      "execution_count": null,
      "outputs": [
        {
          "output_type": "execute_result",
          "data": {
            "text/html": [
              "<div>\n",
              "<style scoped>\n",
              "    .dataframe tbody tr th:only-of-type {\n",
              "        vertical-align: middle;\n",
              "    }\n",
              "\n",
              "    .dataframe tbody tr th {\n",
              "        vertical-align: top;\n",
              "    }\n",
              "\n",
              "    .dataframe thead th {\n",
              "        text-align: right;\n",
              "    }\n",
              "</style>\n",
              "<table border=\"1\" class=\"dataframe\">\n",
              "  <thead>\n",
              "    <tr style=\"text-align: right;\">\n",
              "      <th></th>\n",
              "      <th>date</th>\n",
              "      <th>price</th>\n",
              "      <th>a_sopr</th>\n",
              "      <th>puell_multiple</th>\n",
              "      <th>exchange_netflow</th>\n",
              "      <th>difficulty_compression_band</th>\n",
              "      <th>mvrv_z_score</th>\n",
              "      <th>nonzero_balance_addresses</th>\n",
              "      <th>%_utxo_in_profit</th>\n",
              "      <th>nvt</th>\n",
              "      <th>nupl</th>\n",
              "      <th>stablecoin_supply</th>\n",
              "      <th>rhodl</th>\n",
              "      <th>cvdd</th>\n",
              "      <th>rpv</th>\n",
              "      <th>balanced_price</th>\n",
              "      <th>investor_capitalization</th>\n",
              "    </tr>\n",
              "  </thead>\n",
              "  <tbody>\n",
              "    <tr>\n",
              "      <th>0</th>\n",
              "      <td>2016-01-01</td>\n",
              "      <td>434.883982</td>\n",
              "      <td>1.017900</td>\n",
              "      <td>1.430684</td>\n",
              "      <td>3084.261365</td>\n",
              "      <td>0.149233</td>\n",
              "      <td>0.707518</td>\n",
              "      <td>6810666.0</td>\n",
              "      <td>0.829427</td>\n",
              "      <td>7.160297</td>\n",
              "      <td>0.310327</td>\n",
              "      <td>NaN</td>\n",
              "      <td>336.693607</td>\n",
              "      <td>169.528788</td>\n",
              "      <td>0.000537</td>\n",
              "      <td>232.840772</td>\n",
              "      <td>3.017275e+09</td>\n",
              "    </tr>\n",
              "    <tr>\n",
              "      <th>1</th>\n",
              "      <td>2016-01-02</td>\n",
              "      <td>434.922420</td>\n",
              "      <td>1.006339</td>\n",
              "      <td>1.539487</td>\n",
              "      <td>-1595.518899</td>\n",
              "      <td>0.151165</td>\n",
              "      <td>0.707028</td>\n",
              "      <td>6795517.0</td>\n",
              "      <td>0.825200</td>\n",
              "      <td>7.169680</td>\n",
              "      <td>0.308427</td>\n",
              "      <td>NaN</td>\n",
              "      <td>322.022994</td>\n",
              "      <td>169.513770</td>\n",
              "      <td>0.000265</td>\n",
              "      <td>232.941445</td>\n",
              "      <td>3.017969e+09</td>\n",
              "    </tr>\n",
              "    <tr>\n",
              "      <th>2</th>\n",
              "      <td>2016-01-03</td>\n",
              "      <td>430.999798</td>\n",
              "      <td>1.015510</td>\n",
              "      <td>1.525893</td>\n",
              "      <td>12546.093856</td>\n",
              "      <td>0.153052</td>\n",
              "      <td>0.686532</td>\n",
              "      <td>6814427.0</td>\n",
              "      <td>0.814204</td>\n",
              "      <td>7.106625</td>\n",
              "      <td>0.302795</td>\n",
              "      <td>NaN</td>\n",
              "      <td>328.552037</td>\n",
              "      <td>169.551559</td>\n",
              "      <td>0.000715</td>\n",
              "      <td>233.108481</td>\n",
              "      <td>3.019992e+09</td>\n",
              "    </tr>\n",
              "    <tr>\n",
              "      <th>3</th>\n",
              "      <td>2016-01-04</td>\n",
              "      <td>433.901991</td>\n",
              "      <td>1.016040</td>\n",
              "      <td>1.910143</td>\n",
              "      <td>2674.063117</td>\n",
              "      <td>0.154920</td>\n",
              "      <td>0.699454</td>\n",
              "      <td>6822805.0</td>\n",
              "      <td>0.821300</td>\n",
              "      <td>7.146942</td>\n",
              "      <td>0.305813</td>\n",
              "      <td>NaN</td>\n",
              "      <td>313.990154</td>\n",
              "      <td>169.582557</td>\n",
              "      <td>0.000692</td>\n",
              "      <td>233.317436</td>\n",
              "      <td>3.022417e+09</td>\n",
              "    </tr>\n",
              "    <tr>\n",
              "      <th>4</th>\n",
              "      <td>2016-01-05</td>\n",
              "      <td>433.166599</td>\n",
              "      <td>1.009311</td>\n",
              "      <td>1.654511</td>\n",
              "      <td>-17321.634925</td>\n",
              "      <td>0.156768</td>\n",
              "      <td>0.694940</td>\n",
              "      <td>6830653.0</td>\n",
              "      <td>0.812763</td>\n",
              "      <td>7.131518</td>\n",
              "      <td>0.303631</td>\n",
              "      <td>NaN</td>\n",
              "      <td>324.924804</td>\n",
              "      <td>169.652235</td>\n",
              "      <td>0.000679</td>\n",
              "      <td>233.463981</td>\n",
              "      <td>3.024257e+09</td>\n",
              "    </tr>\n",
              "  </tbody>\n",
              "</table>\n",
              "</div>"
            ],
            "text/plain": [
              "         date       price  ...  balanced_price  investor_capitalization\n",
              "0  2016-01-01  434.883982  ...      232.840772             3.017275e+09\n",
              "1  2016-01-02  434.922420  ...      232.941445             3.017969e+09\n",
              "2  2016-01-03  430.999798  ...      233.108481             3.019992e+09\n",
              "3  2016-01-04  433.901991  ...      233.317436             3.022417e+09\n",
              "4  2016-01-05  433.166599  ...      233.463981             3.024257e+09\n",
              "\n",
              "[5 rows x 17 columns]"
            ]
          },
          "metadata": {},
          "execution_count": 23
        }
      ]
    },
    {
      "cell_type": "code",
      "metadata": {
        "colab": {
          "base_uri": "https://localhost:8080/",
          "height": 419
        },
        "id": "cdvqF45JcnYY",
        "outputId": "fa21efba-8d2c-4739-995a-939a7d32d5e0"
      },
      "source": [
        "#Create price perdent change column\n",
        "btc_df[\"price_pct\"] = btc_df[\"price\"].pct_change()\n",
        "#Drop unwanted indicator\n",
        "btc_df = btc_df.drop(columns=[\"stablecoin_supply\", \"nonzero_balance_addresses\", \"investor_capitalization\", \"balanced_price\", \"%_utxo_in_profit\", \"nvt\", \"cvdd\", \"rpv\"])\n",
        "#Turn % change into 1/0 indicator\n",
        "btc_df[\"BS\"] =  np.where(btc_df['price_pct']<0, 0, 1)\n",
        "btc_df = btc_df.dropna()\n",
        "btc_df\n",
        "#shift 1/0 indicator back 1 so indicators are leading\n",
        "btc_df[\"BS\"] = btc_df[\"BS\"].shift(-1)\n",
        "#drop unwanted data, but preserve for future use in new dataframe\n",
        "btc_df = btc_df.dropna()\n",
        "btc_price = pd.DataFrame(btc_df[[\"price\", \"date\"]], columns=[['price', 'date']])\n",
        "btc_price\n",
        "btc_df = btc_df.drop(columns=[\"price\", \"date\"])\n",
        "btc_df"
      ],
      "execution_count": null,
      "outputs": [
        {
          "output_type": "execute_result",
          "data": {
            "text/html": [
              "<div>\n",
              "<style scoped>\n",
              "    .dataframe tbody tr th:only-of-type {\n",
              "        vertical-align: middle;\n",
              "    }\n",
              "\n",
              "    .dataframe tbody tr th {\n",
              "        vertical-align: top;\n",
              "    }\n",
              "\n",
              "    .dataframe thead th {\n",
              "        text-align: right;\n",
              "    }\n",
              "</style>\n",
              "<table border=\"1\" class=\"dataframe\">\n",
              "  <thead>\n",
              "    <tr style=\"text-align: right;\">\n",
              "      <th></th>\n",
              "      <th>a_sopr</th>\n",
              "      <th>puell_multiple</th>\n",
              "      <th>exchange_netflow</th>\n",
              "      <th>difficulty_compression_band</th>\n",
              "      <th>mvrv_z_score</th>\n",
              "      <th>nupl</th>\n",
              "      <th>rhodl</th>\n",
              "      <th>price_pct</th>\n",
              "      <th>BS</th>\n",
              "    </tr>\n",
              "  </thead>\n",
              "  <tbody>\n",
              "    <tr>\n",
              "      <th>1</th>\n",
              "      <td>1.006339</td>\n",
              "      <td>1.539487</td>\n",
              "      <td>-1595.518899</td>\n",
              "      <td>0.151165</td>\n",
              "      <td>0.707028</td>\n",
              "      <td>0.308427</td>\n",
              "      <td>322.022994</td>\n",
              "      <td>0.000088</td>\n",
              "      <td>0.0</td>\n",
              "    </tr>\n",
              "    <tr>\n",
              "      <th>2</th>\n",
              "      <td>1.015510</td>\n",
              "      <td>1.525893</td>\n",
              "      <td>12546.093856</td>\n",
              "      <td>0.153052</td>\n",
              "      <td>0.686532</td>\n",
              "      <td>0.302795</td>\n",
              "      <td>328.552037</td>\n",
              "      <td>-0.009019</td>\n",
              "      <td>1.0</td>\n",
              "    </tr>\n",
              "    <tr>\n",
              "      <th>3</th>\n",
              "      <td>1.016040</td>\n",
              "      <td>1.910143</td>\n",
              "      <td>2674.063117</td>\n",
              "      <td>0.154920</td>\n",
              "      <td>0.699454</td>\n",
              "      <td>0.305813</td>\n",
              "      <td>313.990154</td>\n",
              "      <td>0.006734</td>\n",
              "      <td>0.0</td>\n",
              "    </tr>\n",
              "    <tr>\n",
              "      <th>4</th>\n",
              "      <td>1.009311</td>\n",
              "      <td>1.654511</td>\n",
              "      <td>-17321.634925</td>\n",
              "      <td>0.156768</td>\n",
              "      <td>0.694940</td>\n",
              "      <td>0.303631</td>\n",
              "      <td>324.924804</td>\n",
              "      <td>-0.001695</td>\n",
              "      <td>0.0</td>\n",
              "    </tr>\n",
              "    <tr>\n",
              "      <th>5</th>\n",
              "      <td>1.009046</td>\n",
              "      <td>1.478699</td>\n",
              "      <td>2674.220665</td>\n",
              "      <td>0.158597</td>\n",
              "      <td>0.677147</td>\n",
              "      <td>0.300722</td>\n",
              "      <td>334.869010</td>\n",
              "      <td>-0.007483</td>\n",
              "      <td>1.0</td>\n",
              "    </tr>\n",
              "    <tr>\n",
              "      <th>...</th>\n",
              "      <td>...</td>\n",
              "      <td>...</td>\n",
              "      <td>...</td>\n",
              "      <td>...</td>\n",
              "      <td>...</td>\n",
              "      <td>...</td>\n",
              "      <td>...</td>\n",
              "      <td>...</td>\n",
              "      <td>...</td>\n",
              "    </tr>\n",
              "    <tr>\n",
              "      <th>2156</th>\n",
              "      <td>0.987623</td>\n",
              "      <td>1.129156</td>\n",
              "      <td>12973.500233</td>\n",
              "      <td>0.072150</td>\n",
              "      <td>2.420237</td>\n",
              "      <td>0.544700</td>\n",
              "      <td>10794.319015</td>\n",
              "      <td>-0.087670</td>\n",
              "      <td>1.0</td>\n",
              "    </tr>\n",
              "    <tr>\n",
              "      <th>2157</th>\n",
              "      <td>0.994843</td>\n",
              "      <td>1.204431</td>\n",
              "      <td>2354.575838</td>\n",
              "      <td>0.071869</td>\n",
              "      <td>2.481278</td>\n",
              "      <td>0.551288</td>\n",
              "      <td>10562.501897</td>\n",
              "      <td>0.014515</td>\n",
              "      <td>1.0</td>\n",
              "    </tr>\n",
              "    <tr>\n",
              "      <th>2158</th>\n",
              "      <td>1.007457</td>\n",
              "      <td>1.165534</td>\n",
              "      <td>4600.730240</td>\n",
              "      <td>0.070742</td>\n",
              "      <td>2.691848</td>\n",
              "      <td>0.571931</td>\n",
              "      <td>10635.142280</td>\n",
              "      <td>0.048763</td>\n",
              "      <td>1.0</td>\n",
              "    </tr>\n",
              "    <tr>\n",
              "      <th>2159</th>\n",
              "      <td>1.023722</td>\n",
              "      <td>1.263554</td>\n",
              "      <td>6915.509012</td>\n",
              "      <td>0.069836</td>\n",
              "      <td>2.751011</td>\n",
              "      <td>0.575634</td>\n",
              "      <td>10245.307366</td>\n",
              "      <td>0.010740</td>\n",
              "      <td>0.0</td>\n",
              "    </tr>\n",
              "    <tr>\n",
              "      <th>2160</th>\n",
              "      <td>1.007449</td>\n",
              "      <td>1.176360</td>\n",
              "      <td>40.726154</td>\n",
              "      <td>0.068973</td>\n",
              "      <td>2.682099</td>\n",
              "      <td>0.568544</td>\n",
              "      <td>10413.726880</td>\n",
              "      <td>-0.015576</td>\n",
              "      <td>1.0</td>\n",
              "    </tr>\n",
              "  </tbody>\n",
              "</table>\n",
              "<p>2160 rows × 9 columns</p>\n",
              "</div>"
            ],
            "text/plain": [
              "        a_sopr  puell_multiple  exchange_netflow  ...         rhodl  price_pct   BS\n",
              "1     1.006339        1.539487      -1595.518899  ...    322.022994   0.000088  0.0\n",
              "2     1.015510        1.525893      12546.093856  ...    328.552037  -0.009019  1.0\n",
              "3     1.016040        1.910143       2674.063117  ...    313.990154   0.006734  0.0\n",
              "4     1.009311        1.654511     -17321.634925  ...    324.924804  -0.001695  0.0\n",
              "5     1.009046        1.478699       2674.220665  ...    334.869010  -0.007483  1.0\n",
              "...        ...             ...               ...  ...           ...        ...  ...\n",
              "2156  0.987623        1.129156      12973.500233  ...  10794.319015  -0.087670  1.0\n",
              "2157  0.994843        1.204431       2354.575838  ...  10562.501897   0.014515  1.0\n",
              "2158  1.007457        1.165534       4600.730240  ...  10635.142280   0.048763  1.0\n",
              "2159  1.023722        1.263554       6915.509012  ...  10245.307366   0.010740  0.0\n",
              "2160  1.007449        1.176360         40.726154  ...  10413.726880  -0.015576  1.0\n",
              "\n",
              "[2160 rows x 9 columns]"
            ]
          },
          "metadata": {},
          "execution_count": 24
        }
      ]
    },
    {
      "cell_type": "code",
      "metadata": {
        "colab": {
          "base_uri": "https://localhost:8080/",
          "height": 204
        },
        "id": "viECMl6NdHyk",
        "outputId": "c4579900-b81e-45b3-9fa7-c3da00112fba"
      },
      "source": [
        "# Define features set X by selecting all columns but DEFAULT\n",
        "X = btc_df.drop(columns=[\"BS\"]).copy()\n",
        "\n",
        "# Display the features DataFrame\n",
        "X.head()"
      ],
      "execution_count": null,
      "outputs": [
        {
          "output_type": "execute_result",
          "data": {
            "text/html": [
              "<div>\n",
              "<style scoped>\n",
              "    .dataframe tbody tr th:only-of-type {\n",
              "        vertical-align: middle;\n",
              "    }\n",
              "\n",
              "    .dataframe tbody tr th {\n",
              "        vertical-align: top;\n",
              "    }\n",
              "\n",
              "    .dataframe thead th {\n",
              "        text-align: right;\n",
              "    }\n",
              "</style>\n",
              "<table border=\"1\" class=\"dataframe\">\n",
              "  <thead>\n",
              "    <tr style=\"text-align: right;\">\n",
              "      <th></th>\n",
              "      <th>a_sopr</th>\n",
              "      <th>puell_multiple</th>\n",
              "      <th>exchange_netflow</th>\n",
              "      <th>difficulty_compression_band</th>\n",
              "      <th>mvrv_z_score</th>\n",
              "      <th>nupl</th>\n",
              "      <th>rhodl</th>\n",
              "      <th>price_pct</th>\n",
              "    </tr>\n",
              "  </thead>\n",
              "  <tbody>\n",
              "    <tr>\n",
              "      <th>1</th>\n",
              "      <td>1.006339</td>\n",
              "      <td>1.539487</td>\n",
              "      <td>-1595.518899</td>\n",
              "      <td>0.151165</td>\n",
              "      <td>0.707028</td>\n",
              "      <td>0.308427</td>\n",
              "      <td>322.022994</td>\n",
              "      <td>0.000088</td>\n",
              "    </tr>\n",
              "    <tr>\n",
              "      <th>2</th>\n",
              "      <td>1.015510</td>\n",
              "      <td>1.525893</td>\n",
              "      <td>12546.093856</td>\n",
              "      <td>0.153052</td>\n",
              "      <td>0.686532</td>\n",
              "      <td>0.302795</td>\n",
              "      <td>328.552037</td>\n",
              "      <td>-0.009019</td>\n",
              "    </tr>\n",
              "    <tr>\n",
              "      <th>3</th>\n",
              "      <td>1.016040</td>\n",
              "      <td>1.910143</td>\n",
              "      <td>2674.063117</td>\n",
              "      <td>0.154920</td>\n",
              "      <td>0.699454</td>\n",
              "      <td>0.305813</td>\n",
              "      <td>313.990154</td>\n",
              "      <td>0.006734</td>\n",
              "    </tr>\n",
              "    <tr>\n",
              "      <th>4</th>\n",
              "      <td>1.009311</td>\n",
              "      <td>1.654511</td>\n",
              "      <td>-17321.634925</td>\n",
              "      <td>0.156768</td>\n",
              "      <td>0.694940</td>\n",
              "      <td>0.303631</td>\n",
              "      <td>324.924804</td>\n",
              "      <td>-0.001695</td>\n",
              "    </tr>\n",
              "    <tr>\n",
              "      <th>5</th>\n",
              "      <td>1.009046</td>\n",
              "      <td>1.478699</td>\n",
              "      <td>2674.220665</td>\n",
              "      <td>0.158597</td>\n",
              "      <td>0.677147</td>\n",
              "      <td>0.300722</td>\n",
              "      <td>334.869010</td>\n",
              "      <td>-0.007483</td>\n",
              "    </tr>\n",
              "  </tbody>\n",
              "</table>\n",
              "</div>"
            ],
            "text/plain": [
              "     a_sopr  puell_multiple  exchange_netflow  ...      nupl       rhodl  price_pct\n",
              "1  1.006339        1.539487      -1595.518899  ...  0.308427  322.022994   0.000088\n",
              "2  1.015510        1.525893      12546.093856  ...  0.302795  328.552037  -0.009019\n",
              "3  1.016040        1.910143       2674.063117  ...  0.305813  313.990154   0.006734\n",
              "4  1.009311        1.654511     -17321.634925  ...  0.303631  324.924804  -0.001695\n",
              "5  1.009046        1.478699       2674.220665  ...  0.300722  334.869010  -0.007483\n",
              "\n",
              "[5 rows x 8 columns]"
            ]
          },
          "metadata": {},
          "execution_count": 26
        }
      ]
    },
    {
      "cell_type": "code",
      "metadata": {
        "colab": {
          "base_uri": "https://localhost:8080/"
        },
        "id": "7fAVG-zydLOg",
        "outputId": "81733246-6289-4efb-927c-13fad6afaee0"
      },
      "source": [
        "# Define target set by selecting the DEFAULT column\n",
        "y = btc_df[\"BS\"]\n",
        "\n",
        "# Display a sample y\n",
        "y[:5]"
      ],
      "execution_count": null,
      "outputs": [
        {
          "output_type": "execute_result",
          "data": {
            "text/plain": [
              "1    0.0\n",
              "2    1.0\n",
              "3    0.0\n",
              "4    0.0\n",
              "5    1.0\n",
              "Name: BS, dtype: float64"
            ]
          },
          "metadata": {},
          "execution_count": 27
        }
      ]
    },
    {
      "cell_type": "code",
      "metadata": {
        "id": "K_gwcAVqdOM5"
      },
      "source": [
        "# Create training and testing datasets using train_test_split\n",
        "# Assign the function a random_state equal to 1\n",
        "X_train, X_test, y_train, y_test = train_test_split(X, y, random_state=1)"
      ],
      "execution_count": null,
      "outputs": []
    },
    {
      "cell_type": "code",
      "metadata": {
        "id": "anNA7mBwdRb_"
      },
      "source": [
        "# Create the StandardScaler instance\n",
        "X_scaler = StandardScaler()"
      ],
      "execution_count": null,
      "outputs": []
    },
    {
      "cell_type": "code",
      "metadata": {
        "colab": {
          "base_uri": "https://localhost:8080/"
        },
        "id": "mzcq-EcydVgK",
        "outputId": "99988254-89a2-4372-dd9c-befe9c5cbbeb"
      },
      "source": [
        "# Fit the scaler to the features training dataset\n",
        "X_scaler.fit(X_train)"
      ],
      "execution_count": null,
      "outputs": [
        {
          "output_type": "execute_result",
          "data": {
            "text/plain": [
              "StandardScaler()"
            ]
          },
          "metadata": {},
          "execution_count": 30
        }
      ]
    },
    {
      "cell_type": "code",
      "metadata": {
        "id": "0yUOTTFAdWh2"
      },
      "source": [
        "# Scale both the training and testing data from the features dataset\n",
        "X_train_scaled = X_scaler.transform(X_train)\n",
        "X_test_scaled = X_scaler.transform(X_test)"
      ],
      "execution_count": null,
      "outputs": []
    },
    {
      "cell_type": "code",
      "metadata": {
        "id": "eyRuoqT0dY0z"
      },
      "source": [
        "# Imports\n",
        "import tensorflow as tf\n",
        "from tensorflow.keras.layers import Dense\n",
        "from tensorflow.keras.models import Sequential"
      ],
      "execution_count": null,
      "outputs": []
    },
    {
      "cell_type": "code",
      "metadata": {
        "id": "QA2LKaL8dc1j"
      },
      "source": [
        "# Define the the number of inputs to the model\n",
        "number_inputs = 8\n",
        "\n",
        "# Define the number of hidden nodes for the model\n",
        "number_hidden_nodes = 4\n",
        "\n",
        "# Create the Sequential model instance\n",
        "neuron = Sequential()\n",
        "\n",
        "# Add a Dense layer specifying the number of inputs, the number of hidden nodes, and the activation function\n",
        "neuron.add(Dense(units=number_hidden_nodes, input_dim=number_inputs, activation=\"relu\"))\n",
        "\n",
        "# Add the output layer to the model specifying the number of output neurons and activation function\n",
        "neuron.add(Dense(1, activation=\"sigmoid\"))"
      ],
      "execution_count": null,
      "outputs": []
    },
    {
      "cell_type": "code",
      "metadata": {
        "colab": {
          "base_uri": "https://localhost:8080/"
        },
        "id": "MUvlH20Xdh_9",
        "outputId": "4b9f918a-eafa-44c0-8d0d-4e51f4b5399b"
      },
      "source": [
        "neuron.summary()"
      ],
      "execution_count": null,
      "outputs": [
        {
          "output_type": "stream",
          "name": "stdout",
          "text": [
            "Model: \"sequential_1\"\n",
            "_________________________________________________________________\n",
            " Layer (type)                Output Shape              Param #   \n",
            "=================================================================\n",
            " dense_2 (Dense)             (None, 4)                 36        \n",
            "                                                                 \n",
            " dense_3 (Dense)             (None, 1)                 5         \n",
            "                                                                 \n",
            "=================================================================\n",
            "Total params: 41\n",
            "Trainable params: 41\n",
            "Non-trainable params: 0\n",
            "_________________________________________________________________\n"
          ]
        }
      ]
    },
    {
      "cell_type": "code",
      "metadata": {
        "id": "xpSjJDs4dk3W"
      },
      "source": [
        "# Imports\n",
        "import pandas as pd\n",
        "import tensorflow as tf\n",
        "from tensorflow.keras.layers import Dense\n",
        "from tensorflow.keras.models import Sequential\n",
        "from sklearn.preprocessing import StandardScaler\n",
        "from sklearn.model_selection import train_test_split\n",
        "\n",
        "%matplotlib inline"
      ],
      "execution_count": null,
      "outputs": []
    },
    {
      "cell_type": "code",
      "metadata": {
        "id": "eYwCMr2JdlyV"
      },
      "source": [
        "# Compile the Sequential model\n",
        "neuron.compile(loss=\"binary_crossentropy\", optimizer=\"adam\", metrics=[\"accuracy\"])"
      ],
      "execution_count": null,
      "outputs": []
    },
    {
      "cell_type": "code",
      "metadata": {
        "colab": {
          "base_uri": "https://localhost:8080/"
        },
        "id": "iKSiwRW6dpAi",
        "outputId": "eaa24ccc-1424-4d85-d767-56f41ee8e35b"
      },
      "source": [
        "# Fit the model using 100 epochs and the training data\n",
        "model = neuron.fit(X_train_scaled, y_train, epochs=100)"
      ],
      "execution_count": null,
      "outputs": [
        {
          "output_type": "stream",
          "name": "stdout",
          "text": [
            "Epoch 1/100\n",
            "51/51 [==============================] - 0s 2ms/step - loss: 0.7813 - accuracy: 0.5167\n",
            "Epoch 2/100\n",
            "51/51 [==============================] - 0s 1ms/step - loss: 0.7520 - accuracy: 0.5210\n",
            "Epoch 3/100\n",
            "51/51 [==============================] - 0s 2ms/step - loss: 0.7339 - accuracy: 0.5235\n",
            "Epoch 4/100\n",
            "51/51 [==============================] - 0s 1ms/step - loss: 0.7229 - accuracy: 0.5302\n",
            "Epoch 5/100\n",
            "51/51 [==============================] - 0s 1ms/step - loss: 0.7159 - accuracy: 0.5290\n",
            "Epoch 6/100\n",
            "51/51 [==============================] - 0s 1ms/step - loss: 0.7105 - accuracy: 0.5290\n",
            "Epoch 7/100\n",
            "51/51 [==============================] - 0s 1ms/step - loss: 0.7062 - accuracy: 0.5309\n",
            "Epoch 8/100\n",
            "51/51 [==============================] - 0s 1ms/step - loss: 0.7033 - accuracy: 0.5321\n",
            "Epoch 9/100\n",
            "51/51 [==============================] - 0s 1ms/step - loss: 0.7007 - accuracy: 0.5358\n",
            "Epoch 10/100\n",
            "51/51 [==============================] - 0s 1ms/step - loss: 0.6987 - accuracy: 0.5309\n",
            "Epoch 11/100\n",
            "51/51 [==============================] - 0s 2ms/step - loss: 0.6972 - accuracy: 0.5414\n",
            "Epoch 12/100\n",
            "51/51 [==============================] - 0s 2ms/step - loss: 0.6964 - accuracy: 0.5401\n",
            "Epoch 13/100\n",
            "51/51 [==============================] - 0s 1ms/step - loss: 0.6950 - accuracy: 0.5401\n",
            "Epoch 14/100\n",
            "51/51 [==============================] - 0s 1ms/step - loss: 0.6944 - accuracy: 0.5420\n",
            "Epoch 15/100\n",
            "51/51 [==============================] - 0s 2ms/step - loss: 0.6935 - accuracy: 0.5395\n",
            "Epoch 16/100\n",
            "51/51 [==============================] - 0s 2ms/step - loss: 0.6929 - accuracy: 0.5420\n",
            "Epoch 17/100\n",
            "51/51 [==============================] - 0s 2ms/step - loss: 0.6926 - accuracy: 0.5389\n",
            "Epoch 18/100\n",
            "51/51 [==============================] - 0s 1ms/step - loss: 0.6922 - accuracy: 0.5420\n",
            "Epoch 19/100\n",
            "51/51 [==============================] - 0s 2ms/step - loss: 0.6916 - accuracy: 0.5426\n",
            "Epoch 20/100\n",
            "51/51 [==============================] - 0s 2ms/step - loss: 0.6913 - accuracy: 0.5383\n",
            "Epoch 21/100\n",
            "51/51 [==============================] - 0s 2ms/step - loss: 0.6912 - accuracy: 0.5414\n",
            "Epoch 22/100\n",
            "51/51 [==============================] - 0s 2ms/step - loss: 0.6908 - accuracy: 0.5327\n",
            "Epoch 23/100\n",
            "51/51 [==============================] - 0s 1ms/step - loss: 0.6905 - accuracy: 0.5389\n",
            "Epoch 24/100\n",
            "51/51 [==============================] - 0s 2ms/step - loss: 0.6903 - accuracy: 0.5407\n",
            "Epoch 25/100\n",
            "51/51 [==============================] - 0s 1ms/step - loss: 0.6900 - accuracy: 0.5389\n",
            "Epoch 26/100\n",
            "51/51 [==============================] - 0s 1ms/step - loss: 0.6900 - accuracy: 0.5395\n",
            "Epoch 27/100\n",
            "51/51 [==============================] - 0s 1ms/step - loss: 0.6897 - accuracy: 0.5389\n",
            "Epoch 28/100\n",
            "51/51 [==============================] - 0s 1ms/step - loss: 0.6895 - accuracy: 0.5414\n",
            "Epoch 29/100\n",
            "51/51 [==============================] - 0s 1ms/step - loss: 0.6892 - accuracy: 0.5389\n",
            "Epoch 30/100\n",
            "51/51 [==============================] - 0s 1ms/step - loss: 0.6892 - accuracy: 0.5438\n",
            "Epoch 31/100\n",
            "51/51 [==============================] - 0s 2ms/step - loss: 0.6890 - accuracy: 0.5432\n",
            "Epoch 32/100\n",
            "51/51 [==============================] - 0s 2ms/step - loss: 0.6889 - accuracy: 0.5414\n",
            "Epoch 33/100\n",
            "51/51 [==============================] - 0s 1ms/step - loss: 0.6886 - accuracy: 0.5407\n",
            "Epoch 34/100\n",
            "51/51 [==============================] - 0s 2ms/step - loss: 0.6884 - accuracy: 0.5420\n",
            "Epoch 35/100\n",
            "51/51 [==============================] - 0s 2ms/step - loss: 0.6883 - accuracy: 0.5420\n",
            "Epoch 36/100\n",
            "51/51 [==============================] - 0s 2ms/step - loss: 0.6884 - accuracy: 0.5444\n",
            "Epoch 37/100\n",
            "51/51 [==============================] - 0s 2ms/step - loss: 0.6881 - accuracy: 0.5414\n",
            "Epoch 38/100\n",
            "51/51 [==============================] - 0s 1ms/step - loss: 0.6877 - accuracy: 0.5438\n",
            "Epoch 39/100\n",
            "51/51 [==============================] - 0s 1ms/step - loss: 0.6879 - accuracy: 0.5469\n",
            "Epoch 40/100\n",
            "51/51 [==============================] - 0s 1ms/step - loss: 0.6876 - accuracy: 0.5432\n",
            "Epoch 41/100\n",
            "51/51 [==============================] - 0s 1ms/step - loss: 0.6874 - accuracy: 0.5457\n",
            "Epoch 42/100\n",
            "51/51 [==============================] - 0s 2ms/step - loss: 0.6871 - accuracy: 0.5481\n",
            "Epoch 43/100\n",
            "51/51 [==============================] - 0s 1ms/step - loss: 0.6872 - accuracy: 0.5451\n",
            "Epoch 44/100\n",
            "51/51 [==============================] - 0s 2ms/step - loss: 0.6868 - accuracy: 0.5500\n",
            "Epoch 45/100\n",
            "51/51 [==============================] - 0s 1ms/step - loss: 0.6873 - accuracy: 0.5463\n",
            "Epoch 46/100\n",
            "51/51 [==============================] - 0s 2ms/step - loss: 0.6868 - accuracy: 0.5525\n",
            "Epoch 47/100\n",
            "51/51 [==============================] - 0s 1ms/step - loss: 0.6865 - accuracy: 0.5506\n",
            "Epoch 48/100\n",
            "51/51 [==============================] - 0s 2ms/step - loss: 0.6863 - accuracy: 0.5481\n",
            "Epoch 49/100\n",
            "51/51 [==============================] - 0s 2ms/step - loss: 0.6862 - accuracy: 0.5488\n",
            "Epoch 50/100\n",
            "51/51 [==============================] - 0s 2ms/step - loss: 0.6860 - accuracy: 0.5519\n",
            "Epoch 51/100\n",
            "51/51 [==============================] - 0s 1ms/step - loss: 0.6860 - accuracy: 0.5537\n",
            "Epoch 52/100\n",
            "51/51 [==============================] - 0s 1ms/step - loss: 0.6859 - accuracy: 0.5488\n",
            "Epoch 53/100\n",
            "51/51 [==============================] - 0s 1ms/step - loss: 0.6857 - accuracy: 0.5531\n",
            "Epoch 54/100\n",
            "51/51 [==============================] - 0s 2ms/step - loss: 0.6856 - accuracy: 0.5512\n",
            "Epoch 55/100\n",
            "51/51 [==============================] - 0s 1ms/step - loss: 0.6855 - accuracy: 0.5531\n",
            "Epoch 56/100\n",
            "51/51 [==============================] - 0s 2ms/step - loss: 0.6853 - accuracy: 0.5562\n",
            "Epoch 57/100\n",
            "51/51 [==============================] - 0s 1ms/step - loss: 0.6853 - accuracy: 0.5549\n",
            "Epoch 58/100\n",
            "51/51 [==============================] - 0s 1ms/step - loss: 0.6851 - accuracy: 0.5586\n",
            "Epoch 59/100\n",
            "51/51 [==============================] - 0s 1ms/step - loss: 0.6850 - accuracy: 0.5549\n",
            "Epoch 60/100\n",
            "51/51 [==============================] - 0s 1ms/step - loss: 0.6852 - accuracy: 0.5549\n",
            "Epoch 61/100\n",
            "51/51 [==============================] - 0s 2ms/step - loss: 0.6851 - accuracy: 0.5556\n",
            "Epoch 62/100\n",
            "51/51 [==============================] - 0s 1ms/step - loss: 0.6848 - accuracy: 0.5543\n",
            "Epoch 63/100\n",
            "51/51 [==============================] - 0s 1ms/step - loss: 0.6846 - accuracy: 0.5556\n",
            "Epoch 64/100\n",
            "51/51 [==============================] - 0s 1ms/step - loss: 0.6846 - accuracy: 0.5562\n",
            "Epoch 65/100\n",
            "51/51 [==============================] - 0s 2ms/step - loss: 0.6845 - accuracy: 0.5574\n",
            "Epoch 66/100\n",
            "51/51 [==============================] - 0s 1ms/step - loss: 0.6844 - accuracy: 0.5549\n",
            "Epoch 67/100\n",
            "51/51 [==============================] - 0s 1ms/step - loss: 0.6845 - accuracy: 0.5537\n",
            "Epoch 68/100\n",
            "51/51 [==============================] - 0s 1ms/step - loss: 0.6845 - accuracy: 0.5593\n",
            "Epoch 69/100\n",
            "51/51 [==============================] - 0s 1ms/step - loss: 0.6843 - accuracy: 0.5525\n",
            "Epoch 70/100\n",
            "51/51 [==============================] - 0s 2ms/step - loss: 0.6841 - accuracy: 0.5512\n",
            "Epoch 71/100\n",
            "51/51 [==============================] - 0s 1ms/step - loss: 0.6840 - accuracy: 0.5549\n",
            "Epoch 72/100\n",
            "51/51 [==============================] - 0s 2ms/step - loss: 0.6840 - accuracy: 0.5562\n",
            "Epoch 73/100\n",
            "51/51 [==============================] - 0s 1ms/step - loss: 0.6839 - accuracy: 0.5556\n",
            "Epoch 74/100\n",
            "51/51 [==============================] - 0s 2ms/step - loss: 0.6838 - accuracy: 0.5562\n",
            "Epoch 75/100\n",
            "51/51 [==============================] - 0s 1ms/step - loss: 0.6836 - accuracy: 0.5549\n",
            "Epoch 76/100\n",
            "51/51 [==============================] - 0s 1ms/step - loss: 0.6837 - accuracy: 0.5568\n",
            "Epoch 77/100\n",
            "51/51 [==============================] - 0s 1ms/step - loss: 0.6833 - accuracy: 0.5568\n",
            "Epoch 78/100\n",
            "51/51 [==============================] - 0s 1ms/step - loss: 0.6834 - accuracy: 0.5574\n",
            "Epoch 79/100\n",
            "51/51 [==============================] - 0s 2ms/step - loss: 0.6834 - accuracy: 0.5543\n",
            "Epoch 80/100\n",
            "51/51 [==============================] - 0s 1ms/step - loss: 0.6832 - accuracy: 0.5549\n",
            "Epoch 81/100\n",
            "51/51 [==============================] - 0s 2ms/step - loss: 0.6830 - accuracy: 0.5562\n",
            "Epoch 82/100\n",
            "51/51 [==============================] - 0s 2ms/step - loss: 0.6831 - accuracy: 0.5556\n",
            "Epoch 83/100\n",
            "51/51 [==============================] - 0s 2ms/step - loss: 0.6828 - accuracy: 0.5556\n",
            "Epoch 84/100\n",
            "51/51 [==============================] - 0s 1ms/step - loss: 0.6829 - accuracy: 0.5549\n",
            "Epoch 85/100\n",
            "51/51 [==============================] - 0s 2ms/step - loss: 0.6829 - accuracy: 0.5549\n",
            "Epoch 86/100\n",
            "51/51 [==============================] - 0s 2ms/step - loss: 0.6827 - accuracy: 0.5549\n",
            "Epoch 87/100\n",
            "51/51 [==============================] - 0s 1ms/step - loss: 0.6828 - accuracy: 0.5562\n",
            "Epoch 88/100\n",
            "51/51 [==============================] - 0s 1ms/step - loss: 0.6825 - accuracy: 0.5537\n",
            "Epoch 89/100\n",
            "51/51 [==============================] - 0s 1ms/step - loss: 0.6827 - accuracy: 0.5525\n",
            "Epoch 90/100\n",
            "51/51 [==============================] - 0s 1ms/step - loss: 0.6825 - accuracy: 0.5599\n",
            "Epoch 91/100\n",
            "51/51 [==============================] - 0s 2ms/step - loss: 0.6824 - accuracy: 0.5562\n",
            "Epoch 92/100\n",
            "51/51 [==============================] - 0s 1ms/step - loss: 0.6822 - accuracy: 0.5556\n",
            "Epoch 93/100\n",
            "51/51 [==============================] - 0s 2ms/step - loss: 0.6823 - accuracy: 0.5593\n",
            "Epoch 94/100\n",
            "51/51 [==============================] - 0s 2ms/step - loss: 0.6822 - accuracy: 0.5580\n",
            "Epoch 95/100\n",
            "51/51 [==============================] - 0s 2ms/step - loss: 0.6824 - accuracy: 0.5562\n",
            "Epoch 96/100\n",
            "51/51 [==============================] - 0s 2ms/step - loss: 0.6823 - accuracy: 0.5537\n",
            "Epoch 97/100\n",
            "51/51 [==============================] - 0s 1ms/step - loss: 0.6823 - accuracy: 0.5543\n",
            "Epoch 98/100\n",
            "51/51 [==============================] - 0s 2ms/step - loss: 0.6820 - accuracy: 0.5599\n",
            "Epoch 99/100\n",
            "51/51 [==============================] - 0s 2ms/step - loss: 0.6820 - accuracy: 0.5611\n",
            "Epoch 100/100\n",
            "51/51 [==============================] - 0s 1ms/step - loss: 0.6821 - accuracy: 0.5599\n"
          ]
        }
      ]
    },
    {
      "cell_type": "code",
      "metadata": {
        "id": "G8ABvaD9dtx1"
      },
      "source": [
        "# Create a DataFrame using the model history and an index parameter\n",
        "model_plot = pd.DataFrame(model.history, index=range(1, len(model.history[\"loss\"]) + 1))"
      ],
      "execution_count": null,
      "outputs": []
    },
    {
      "cell_type": "code",
      "metadata": {
        "colab": {
          "base_uri": "https://localhost:8080/",
          "height": 282
        },
        "id": "YNMKLwZudz69",
        "outputId": "be99d608-c2e2-4e01-db26-8c7fa0f3c3ae"
      },
      "source": [
        "# Vizualize the model plot where the y-axis displays the loss metric\n",
        "model_plot.plot(y=\"loss\")"
      ],
      "execution_count": null,
      "outputs": [
        {
          "output_type": "execute_result",
          "data": {
            "text/plain": [
              "<matplotlib.axes._subplots.AxesSubplot at 0x7fec38c9b590>"
            ]
          },
          "metadata": {},
          "execution_count": 19
        },
        {
          "output_type": "display_data",
          "data": {
            "image/png": "[encoded data removed]",
            "text/plain": [
              "<Figure size 432x288 with 1 Axes>"
            ]
          },
          "metadata": {
            "needs_background": "light"
          }
        }
      ]
    },
    {
      "cell_type": "code",
      "metadata": {
        "colab": {
          "base_uri": "https://localhost:8080/",
          "height": 282
        },
        "id": "tgIA6inAd1Hv",
        "outputId": "04781cbd-7f6b-4775-c3ef-f53b0ba6d087"
      },
      "source": [
        "# Vizualize the model plot where the y-axis displays the accuracy metric\n",
        "model_plot.plot(y=\"accuracy\")"
      ],
      "execution_count": null,
      "outputs": [
        {
          "output_type": "execute_result",
          "data": {
            "text/plain": [
              "<matplotlib.axes._subplots.AxesSubplot at 0x7fec3a3cb2d0>"
            ]
          },
          "metadata": {},
          "execution_count": 20
        },
        {
          "output_type": "display_data",
          "data": {
            "image/png": "[encoded data removed]",
            "text/plain": [
              "<Figure size 432x288 with 1 Axes>"
            ]
          },
          "metadata": {
            "needs_background": "light"
          }
        }
      ]
    },
    {
      "cell_type": "code",
      "metadata": {
        "colab": {
          "base_uri": "https://localhost:8080/"
        },
        "id": "7LYxSe3Ed4Ak",
        "outputId": "c0642417-e348-4a64-c112-957db2d34d28"
      },
      "source": [
        "# Evaluate the model loss and accuracy metrics using the evaluate method and the test data\n",
        "model_loss, model_accuracy = neuron.evaluate(X_test_scaled, y_test, verbose=2)\n",
        "\n",
        "# Display the evaluation results\n",
        "print(f\"Loss: {model_loss}, Accuracy: {model_accuracy}\")"
      ],
      "execution_count": null,
      "outputs": [
        {
          "output_type": "stream",
          "name": "stdout",
          "text": [
            "17/17 - 0s - loss: 0.6905 - accuracy: 0.5222 - 144ms/epoch - 8ms/step\n",
            "Loss: 0.6905351877212524, Accuracy: 0.5222222208976746\n"
          ]
        }
      ]
    }
  ]
}