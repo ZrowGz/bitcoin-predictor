{
  "nbformat": 4,
  "nbformat_minor": 0,
  "metadata": {
    "colab": {
      "name": "NNTest1 - 55%.ipynb",
      "provenance": [],
      "collapsed_sections": [],
      "authorship_tag": "ABX9TyN3thuG0FgQ6YzXP0FkYSyl",
      "include_colab_link": true
    },
    "kernelspec": {
      "name": "python3",
      "display_name": "Python 3"
    },
    "language_info": {
      "name": "python"
    }
  },
  "cells": [
    {
      "cell_type": "markdown",
      "metadata": {
        "id": "view-in-github",
        "colab_type": "text"
      },
      "source": [
        "<a href=\"https://colab.research.google.com/github/ZrowGz/trading-bot/blob/viny/NNTest1_55_.ipynb\" target=\"_parent\"><img src=\"https://colab.research.google.com/assets/colab-badge.svg\" alt=\"Open In Colab\"/></a>"
      ]
    },
    {
      "cell_type": "code",
      "metadata": {
        "id": "JWM1Ld88KtAK"
      },
      "source": [
        "# Imports\n",
        "import pandas as pd\n",
        "import numpy as np\n",
        "from sklearn.datasets import make_classification\n",
        "from sklearn.model_selection import train_test_split\n",
        "from sklearn.preprocessing import StandardScaler\n",
        "from tensorflow.keras.models import Sequential\n",
        "from tensorflow.keras.layers import Dense\n",
        "\n",
        "%matplotlib inline"
      ],
      "execution_count": null,
      "outputs": []
    },
    {
      "cell_type": "code",
      "metadata": {
        "colab": {
          "resources": {
            "http://localhost:8080/nbextensions/google.colab/files.js": {
              "data": "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",
              "ok": true,
              "headers": [
                [
                  "content-type",
                  "application/javascript"
                ]
              ],
              "status": 200,
              "status_text": ""
            }
          },
          "base_uri": "https://localhost:8080/",
          "height": 72
        },
        "id": "pK7KsVffKykN",
        "outputId": "5630eaca-cea1-490d-f772-bc38f3c77218"
      },
      "source": [
        "from google.colab import files\n",
        "\n",
        "csv_file = files.upload()"
      ],
      "execution_count": null,
      "outputs": [
        {
          "output_type": "display_data",
          "data": {
            "text/html": [
              "\n",
              "     <input type=\"file\" id=\"files-7f79fa7e-b3ff-4556-ae13-4076d7fd6af6\" name=\"files[]\" multiple disabled\n",
              "        style=\"border:none\" />\n",
              "     <output id=\"result-7f79fa7e-b3ff-4556-ae13-4076d7fd6af6\">\n",
              "      Upload widget is only available when the cell has been executed in the\n",
              "      current browser session. Please rerun this cell to enable.\n",
              "      </output>\n",
              "      <script src=\"/nbextensions/google.colab/files.js\"></script> "
            ],
            "text/plain": [
              "<IPython.core.display.HTML object>"
            ]
          },
          "metadata": {}
        },
        {
          "output_type": "stream",
          "name": "stdout",
          "text": [
            "Saving btc_metrics.csv to btc_metrics (2).csv\n"
          ]
        }
      ]
    },
    {
      "cell_type": "code",
      "metadata": {
        "colab": {
          "base_uri": "https://localhost:8080/",
          "height": 309
        },
        "id": "unJJyqriMphE",
        "outputId": "bc5f71bb-38a6-4d68-c715-784680d6d34d"
      },
      "source": [
        "# Read the bitcoin Glassnode indicator data into a Pandas DataFrame\n",
        "btc_df = pd.read_csv(\"btc_metrics.csv\")\n",
        "\n",
        "# Review the DataFrame\n",
        "btc_df.head()"
      ],
      "execution_count": null,
      "outputs": [
        {
          "output_type": "execute_result",
          "data": {
            "text/html": [
              "<div>\n",
              "<style scoped>\n",
              "    .dataframe tbody tr th:only-of-type {\n",
              "        vertical-align: middle;\n",
              "    }\n",
              "\n",
              "    .dataframe tbody tr th {\n",
              "        vertical-align: top;\n",
              "    }\n",
              "\n",
              "    .dataframe thead th {\n",
              "        text-align: right;\n",
              "    }\n",
              "</style>\n",
              "<table border=\"1\" class=\"dataframe\">\n",
              "  <thead>\n",
              "    <tr style=\"text-align: right;\">\n",
              "      <th></th>\n",
              "      <th>date</th>\n",
              "      <th>price</th>\n",
              "      <th>a_sopr</th>\n",
              "      <th>puell_multiple</th>\n",
              "      <th>exchange_netflow</th>\n",
              "      <th>difficulty_compression_band</th>\n",
              "      <th>mvrv_z_score</th>\n",
              "      <th>nonzero_balance_addresses</th>\n",
              "      <th>%_utxo_in_profit</th>\n",
              "      <th>nvt</th>\n",
              "      <th>nupl</th>\n",
              "      <th>stablecoin_supply</th>\n",
              "      <th>rhodl</th>\n",
              "      <th>cvdd</th>\n",
              "      <th>rpv</th>\n",
              "      <th>balanced_price</th>\n",
              "      <th>investor_capitalization</th>\n",
              "    </tr>\n",
              "  </thead>\n",
              "  <tbody>\n",
              "    <tr>\n",
              "      <th>0</th>\n",
              "      <td>2016-01-01</td>\n",
              "      <td>434.883982</td>\n",
              "      <td>1.017900</td>\n",
              "      <td>1.430684</td>\n",
              "      <td>3084.261365</td>\n",
              "      <td>0.149233</td>\n",
              "      <td>0.707518</td>\n",
              "      <td>6810666.0</td>\n",
              "      <td>0.829427</td>\n",
              "      <td>7.160297</td>\n",
              "      <td>0.310327</td>\n",
              "      <td>NaN</td>\n",
              "      <td>336.693607</td>\n",
              "      <td>169.528788</td>\n",
              "      <td>0.000537</td>\n",
              "      <td>232.840772</td>\n",
              "      <td>3.017275e+09</td>\n",
              "    </tr>\n",
              "    <tr>\n",
              "      <th>1</th>\n",
              "      <td>2016-01-02</td>\n",
              "      <td>434.922420</td>\n",
              "      <td>1.006339</td>\n",
              "      <td>1.539487</td>\n",
              "      <td>-1595.518899</td>\n",
              "      <td>0.151165</td>\n",
              "      <td>0.707028</td>\n",
              "      <td>6795517.0</td>\n",
              "      <td>0.825200</td>\n",
              "      <td>7.169680</td>\n",
              "      <td>0.308427</td>\n",
              "      <td>NaN</td>\n",
              "      <td>322.022994</td>\n",
              "      <td>169.513770</td>\n",
              "      <td>0.000265</td>\n",
              "      <td>232.941445</td>\n",
              "      <td>3.017969e+09</td>\n",
              "    </tr>\n",
              "    <tr>\n",
              "      <th>2</th>\n",
              "      <td>2016-01-03</td>\n",
              "      <td>430.999798</td>\n",
              "      <td>1.015510</td>\n",
              "      <td>1.525893</td>\n",
              "      <td>12546.093856</td>\n",
              "      <td>0.153052</td>\n",
              "      <td>0.686532</td>\n",
              "      <td>6814427.0</td>\n",
              "      <td>0.814204</td>\n",
              "      <td>7.106625</td>\n",
              "      <td>0.302795</td>\n",
              "      <td>NaN</td>\n",
              "      <td>328.552037</td>\n",
              "      <td>169.551559</td>\n",
              "      <td>0.000715</td>\n",
              "      <td>233.108481</td>\n",
              "      <td>3.019992e+09</td>\n",
              "    </tr>\n",
              "    <tr>\n",
              "      <th>3</th>\n",
              "      <td>2016-01-04</td>\n",
              "      <td>433.901991</td>\n",
              "      <td>1.016040</td>\n",
              "      <td>1.910143</td>\n",
              "      <td>2674.063117</td>\n",
              "      <td>0.154920</td>\n",
              "      <td>0.699454</td>\n",
              "      <td>6822805.0</td>\n",
              "      <td>0.821300</td>\n",
              "      <td>7.146942</td>\n",
              "      <td>0.305813</td>\n",
              "      <td>NaN</td>\n",
              "      <td>313.990154</td>\n",
              "      <td>169.582557</td>\n",
              "      <td>0.000692</td>\n",
              "      <td>233.317436</td>\n",
              "      <td>3.022417e+09</td>\n",
              "    </tr>\n",
              "    <tr>\n",
              "      <th>4</th>\n",
              "      <td>2016-01-05</td>\n",
              "      <td>433.166599</td>\n",
              "      <td>1.009311</td>\n",
              "      <td>1.654511</td>\n",
              "      <td>-17321.634925</td>\n",
              "      <td>0.156768</td>\n",
              "      <td>0.694940</td>\n",
              "      <td>6830653.0</td>\n",
              "      <td>0.812763</td>\n",
              "      <td>7.131518</td>\n",
              "      <td>0.303631</td>\n",
              "      <td>NaN</td>\n",
              "      <td>324.924804</td>\n",
              "      <td>169.652235</td>\n",
              "      <td>0.000679</td>\n",
              "      <td>233.463981</td>\n",
              "      <td>3.024257e+09</td>\n",
              "    </tr>\n",
              "  </tbody>\n",
              "</table>\n",
              "</div>"
            ],
            "text/plain": [
              "         date       price  ...  balanced_price  investor_capitalization\n",
              "0  2016-01-01  434.883982  ...      232.840772             3.017275e+09\n",
              "1  2016-01-02  434.922420  ...      232.941445             3.017969e+09\n",
              "2  2016-01-03  430.999798  ...      233.108481             3.019992e+09\n",
              "3  2016-01-04  433.901991  ...      233.317436             3.022417e+09\n",
              "4  2016-01-05  433.166599  ...      233.463981             3.024257e+09\n",
              "\n",
              "[5 rows x 17 columns]"
            ]
          },
          "metadata": {},
          "execution_count": 63
        }
      ]
    },
    {
      "cell_type": "code",
      "metadata": {
        "colab": {
          "base_uri": "https://localhost:8080/",
          "height": 439
        },
        "id": "VhbYijSUNSXI",
        "outputId": "e82e76d2-6aaf-4c8a-a579-70d1f4586137"
      },
      "source": [
        "#Create price perdent change column\n",
        "btc_df[\"price_pct\"] = btc_df[\"price\"].pct_change()\n",
        "#Drop unwanted indicator\n",
        "btc_df = btc_df.drop(columns=\"stablecoin_supply\")\n",
        "#Turn % change into 1/0 indicator\n",
        "btc_df[\"BS\"] =  np.where(btc_df['price_pct']<0, 0, 1)\n",
        "btc_df = btc_df.dropna()\n",
        "btc_df\n",
        "#shift 1/0 indicator back 1 so indicators are leading\n",
        "btc_df[\"BS\"] = btc_df[\"BS\"].shift(-1)\n",
        "#drop unwanted data, but preserve for future use in new dataframe\n",
        "btc_df = btc_df.dropna()\n",
        "btc_price = pd.DataFrame(btc_df[[\"price\", \"date\"]], columns=[['price', 'date']])\n",
        "btc_price\n",
        "btc_df = btc_df.drop(columns=[\"price\", \"date\"])\n",
        "btc_df"
      ],
      "execution_count": null,
      "outputs": [
        {
          "output_type": "execute_result",
          "data": {
            "text/html": [
              "<div>\n",
              "<style scoped>\n",
              "    .dataframe tbody tr th:only-of-type {\n",
              "        vertical-align: middle;\n",
              "    }\n",
              "\n",
              "    .dataframe tbody tr th {\n",
              "        vertical-align: top;\n",
              "    }\n",
              "\n",
              "    .dataframe thead th {\n",
              "        text-align: right;\n",
              "    }\n",
              "</style>\n",
              "<table border=\"1\" class=\"dataframe\">\n",
              "  <thead>\n",
              "    <tr style=\"text-align: right;\">\n",
              "      <th></th>\n",
              "      <th>a_sopr</th>\n",
              "      <th>puell_multiple</th>\n",
              "      <th>exchange_netflow</th>\n",
              "      <th>difficulty_compression_band</th>\n",
              "      <th>mvrv_z_score</th>\n",
              "      <th>nonzero_balance_addresses</th>\n",
              "      <th>%_utxo_in_profit</th>\n",
              "      <th>nvt</th>\n",
              "      <th>nupl</th>\n",
              "      <th>rhodl</th>\n",
              "      <th>cvdd</th>\n",
              "      <th>rpv</th>\n",
              "      <th>balanced_price</th>\n",
              "      <th>investor_capitalization</th>\n",
              "      <th>price_pct</th>\n",
              "      <th>BS</th>\n",
              "    </tr>\n",
              "  </thead>\n",
              "  <tbody>\n",
              "    <tr>\n",
              "      <th>1</th>\n",
              "      <td>1.006339</td>\n",
              "      <td>1.539487</td>\n",
              "      <td>-1595.518899</td>\n",
              "      <td>0.151165</td>\n",
              "      <td>0.707028</td>\n",
              "      <td>6795517.0</td>\n",
              "      <td>0.825200</td>\n",
              "      <td>7.169680</td>\n",
              "      <td>0.308427</td>\n",
              "      <td>322.022994</td>\n",
              "      <td>169.513770</td>\n",
              "      <td>0.000265</td>\n",
              "      <td>232.941445</td>\n",
              "      <td>3.017969e+09</td>\n",
              "      <td>0.000088</td>\n",
              "      <td>0.0</td>\n",
              "    </tr>\n",
              "    <tr>\n",
              "      <th>2</th>\n",
              "      <td>1.015510</td>\n",
              "      <td>1.525893</td>\n",
              "      <td>12546.093856</td>\n",
              "      <td>0.153052</td>\n",
              "      <td>0.686532</td>\n",
              "      <td>6814427.0</td>\n",
              "      <td>0.814204</td>\n",
              "      <td>7.106625</td>\n",
              "      <td>0.302795</td>\n",
              "      <td>328.552037</td>\n",
              "      <td>169.551559</td>\n",
              "      <td>0.000715</td>\n",
              "      <td>233.108481</td>\n",
              "      <td>3.019992e+09</td>\n",
              "      <td>-0.009019</td>\n",
              "      <td>1.0</td>\n",
              "    </tr>\n",
              "    <tr>\n",
              "      <th>3</th>\n",
              "      <td>1.016040</td>\n",
              "      <td>1.910143</td>\n",
              "      <td>2674.063117</td>\n",
              "      <td>0.154920</td>\n",
              "      <td>0.699454</td>\n",
              "      <td>6822805.0</td>\n",
              "      <td>0.821300</td>\n",
              "      <td>7.146942</td>\n",
              "      <td>0.305813</td>\n",
              "      <td>313.990154</td>\n",
              "      <td>169.582557</td>\n",
              "      <td>0.000692</td>\n",
              "      <td>233.317436</td>\n",
              "      <td>3.022417e+09</td>\n",
              "      <td>0.006734</td>\n",
              "      <td>0.0</td>\n",
              "    </tr>\n",
              "    <tr>\n",
              "      <th>4</th>\n",
              "      <td>1.009311</td>\n",
              "      <td>1.654511</td>\n",
              "      <td>-17321.634925</td>\n",
              "      <td>0.156768</td>\n",
              "      <td>0.694940</td>\n",
              "      <td>6830653.0</td>\n",
              "      <td>0.812763</td>\n",
              "      <td>7.131518</td>\n",
              "      <td>0.303631</td>\n",
              "      <td>324.924804</td>\n",
              "      <td>169.652235</td>\n",
              "      <td>0.000679</td>\n",
              "      <td>233.463981</td>\n",
              "      <td>3.024257e+09</td>\n",
              "      <td>-0.001695</td>\n",
              "      <td>0.0</td>\n",
              "    </tr>\n",
              "    <tr>\n",
              "      <th>5</th>\n",
              "      <td>1.009046</td>\n",
              "      <td>1.478699</td>\n",
              "      <td>2674.220665</td>\n",
              "      <td>0.158597</td>\n",
              "      <td>0.677147</td>\n",
              "      <td>6840668.0</td>\n",
              "      <td>0.805785</td>\n",
              "      <td>7.098181</td>\n",
              "      <td>0.300722</td>\n",
              "      <td>334.869010</td>\n",
              "      <td>169.693939</td>\n",
              "      <td>0.000581</td>\n",
              "      <td>233.598780</td>\n",
              "      <td>3.025839e+09</td>\n",
              "      <td>-0.007483</td>\n",
              "      <td>1.0</td>\n",
              "    </tr>\n",
              "    <tr>\n",
              "      <th>...</th>\n",
              "      <td>...</td>\n",
              "      <td>...</td>\n",
              "      <td>...</td>\n",
              "      <td>...</td>\n",
              "      <td>...</td>\n",
              "      <td>...</td>\n",
              "      <td>...</td>\n",
              "      <td>...</td>\n",
              "      <td>...</td>\n",
              "      <td>...</td>\n",
              "      <td>...</td>\n",
              "      <td>...</td>\n",
              "      <td>...</td>\n",
              "      <td>...</td>\n",
              "      <td>...</td>\n",
              "      <td>...</td>\n",
              "    </tr>\n",
              "    <tr>\n",
              "      <th>2156</th>\n",
              "      <td>0.987623</td>\n",
              "      <td>1.129156</td>\n",
              "      <td>12973.500233</td>\n",
              "      <td>0.072150</td>\n",
              "      <td>2.420237</td>\n",
              "      <td>38990756.0</td>\n",
              "      <td>0.900847</td>\n",
              "      <td>18.418593</td>\n",
              "      <td>0.544700</td>\n",
              "      <td>10794.319015</td>\n",
              "      <td>12108.188850</td>\n",
              "      <td>0.001764</td>\n",
              "      <td>20621.348426</td>\n",
              "      <td>4.281708e+11</td>\n",
              "      <td>-0.087670</td>\n",
              "      <td>1.0</td>\n",
              "    </tr>\n",
              "    <tr>\n",
              "      <th>2157</th>\n",
              "      <td>0.994843</td>\n",
              "      <td>1.204431</td>\n",
              "      <td>2354.575838</td>\n",
              "      <td>0.071869</td>\n",
              "      <td>2.481278</td>\n",
              "      <td>39089203.0</td>\n",
              "      <td>0.905624</td>\n",
              "      <td>18.295641</td>\n",
              "      <td>0.551288</td>\n",
              "      <td>10562.501897</td>\n",
              "      <td>12111.094113</td>\n",
              "      <td>0.000617</td>\n",
              "      <td>20616.565695</td>\n",
              "      <td>4.280674e+11</td>\n",
              "      <td>0.014515</td>\n",
              "      <td>1.0</td>\n",
              "    </tr>\n",
              "    <tr>\n",
              "      <th>2158</th>\n",
              "      <td>1.007457</td>\n",
              "      <td>1.165534</td>\n",
              "      <td>4600.730240</td>\n",
              "      <td>0.070742</td>\n",
              "      <td>2.691848</td>\n",
              "      <td>39085584.0</td>\n",
              "      <td>0.932517</td>\n",
              "      <td>18.540760</td>\n",
              "      <td>0.571931</td>\n",
              "      <td>10635.142280</td>\n",
              "      <td>12120.352583</td>\n",
              "      <td>0.001228</td>\n",
              "      <td>20626.395724</td>\n",
              "      <td>4.282791e+11</td>\n",
              "      <td>0.048763</td>\n",
              "      <td>1.0</td>\n",
              "    </tr>\n",
              "    <tr>\n",
              "      <th>2159</th>\n",
              "      <td>1.023722</td>\n",
              "      <td>1.263554</td>\n",
              "      <td>6915.509012</td>\n",
              "      <td>0.069836</td>\n",
              "      <td>2.751011</td>\n",
              "      <td>39121804.0</td>\n",
              "      <td>0.940265</td>\n",
              "      <td>19.667376</td>\n",
              "      <td>0.575634</td>\n",
              "      <td>10245.307366</td>\n",
              "      <td>12136.911568</td>\n",
              "      <td>0.002674</td>\n",
              "      <td>20670.200219</td>\n",
              "      <td>4.291727e+11</td>\n",
              "      <td>0.010740</td>\n",
              "      <td>0.0</td>\n",
              "    </tr>\n",
              "    <tr>\n",
              "      <th>2160</th>\n",
              "      <td>1.007449</td>\n",
              "      <td>1.176360</td>\n",
              "      <td>40.726154</td>\n",
              "      <td>0.068973</td>\n",
              "      <td>2.682099</td>\n",
              "      <td>39211172.0</td>\n",
              "      <td>0.924972</td>\n",
              "      <td>19.579093</td>\n",
              "      <td>0.568544</td>\n",
              "      <td>10413.726880</td>\n",
              "      <td>12153.181435</td>\n",
              "      <td>0.002345</td>\n",
              "      <td>20686.550917</td>\n",
              "      <td>4.295484e+11</td>\n",
              "      <td>-0.015576</td>\n",
              "      <td>1.0</td>\n",
              "    </tr>\n",
              "  </tbody>\n",
              "</table>\n",
              "<p>2160 rows × 16 columns</p>\n",
              "</div>"
            ],
            "text/plain": [
              "        a_sopr  puell_multiple  ...  price_pct   BS\n",
              "1     1.006339        1.539487  ...   0.000088  0.0\n",
              "2     1.015510        1.525893  ...  -0.009019  1.0\n",
              "3     1.016040        1.910143  ...   0.006734  0.0\n",
              "4     1.009311        1.654511  ...  -0.001695  0.0\n",
              "5     1.009046        1.478699  ...  -0.007483  1.0\n",
              "...        ...             ...  ...        ...  ...\n",
              "2156  0.987623        1.129156  ...  -0.087670  1.0\n",
              "2157  0.994843        1.204431  ...   0.014515  1.0\n",
              "2158  1.007457        1.165534  ...   0.048763  1.0\n",
              "2159  1.023722        1.263554  ...   0.010740  0.0\n",
              "2160  1.007449        1.176360  ...  -0.015576  1.0\n",
              "\n",
              "[2160 rows x 16 columns]"
            ]
          },
          "metadata": {},
          "execution_count": 64
        }
      ]
    },
    {
      "cell_type": "code",
      "metadata": {
        "colab": {
          "base_uri": "https://localhost:8080/",
          "height": 224
        },
        "id": "zvUQ_KU_XlPg",
        "outputId": "7efc9b06-5128-4373-b6b1-5f9b63aca687"
      },
      "source": [
        "# Define features set X by selecting all columns but DEFAULT\n",
        "X = btc_df.drop(columns=[\"BS\"]).copy()\n",
        "\n",
        "# Display the features DataFrame\n",
        "X.head()"
      ],
      "execution_count": null,
      "outputs": [
        {
          "output_type": "execute_result",
          "data": {
            "text/html": [
              "<div>\n",
              "<style scoped>\n",
              "    .dataframe tbody tr th:only-of-type {\n",
              "        vertical-align: middle;\n",
              "    }\n",
              "\n",
              "    .dataframe tbody tr th {\n",
              "        vertical-align: top;\n",
              "    }\n",
              "\n",
              "    .dataframe thead th {\n",
              "        text-align: right;\n",
              "    }\n",
              "</style>\n",
              "<table border=\"1\" class=\"dataframe\">\n",
              "  <thead>\n",
              "    <tr style=\"text-align: right;\">\n",
              "      <th></th>\n",
              "      <th>a_sopr</th>\n",
              "      <th>puell_multiple</th>\n",
              "      <th>exchange_netflow</th>\n",
              "      <th>difficulty_compression_band</th>\n",
              "      <th>mvrv_z_score</th>\n",
              "      <th>nonzero_balance_addresses</th>\n",
              "      <th>%_utxo_in_profit</th>\n",
              "      <th>nvt</th>\n",
              "      <th>nupl</th>\n",
              "      <th>rhodl</th>\n",
              "      <th>cvdd</th>\n",
              "      <th>rpv</th>\n",
              "      <th>balanced_price</th>\n",
              "      <th>investor_capitalization</th>\n",
              "      <th>price_pct</th>\n",
              "    </tr>\n",
              "  </thead>\n",
              "  <tbody>\n",
              "    <tr>\n",
              "      <th>1</th>\n",
              "      <td>1.006339</td>\n",
              "      <td>1.539487</td>\n",
              "      <td>-1595.518899</td>\n",
              "      <td>0.151165</td>\n",
              "      <td>0.707028</td>\n",
              "      <td>6795517.0</td>\n",
              "      <td>0.825200</td>\n",
              "      <td>7.169680</td>\n",
              "      <td>0.308427</td>\n",
              "      <td>322.022994</td>\n",
              "      <td>169.513770</td>\n",
              "      <td>0.000265</td>\n",
              "      <td>232.941445</td>\n",
              "      <td>3.017969e+09</td>\n",
              "      <td>0.000088</td>\n",
              "    </tr>\n",
              "    <tr>\n",
              "      <th>2</th>\n",
              "      <td>1.015510</td>\n",
              "      <td>1.525893</td>\n",
              "      <td>12546.093856</td>\n",
              "      <td>0.153052</td>\n",
              "      <td>0.686532</td>\n",
              "      <td>6814427.0</td>\n",
              "      <td>0.814204</td>\n",
              "      <td>7.106625</td>\n",
              "      <td>0.302795</td>\n",
              "      <td>328.552037</td>\n",
              "      <td>169.551559</td>\n",
              "      <td>0.000715</td>\n",
              "      <td>233.108481</td>\n",
              "      <td>3.019992e+09</td>\n",
              "      <td>-0.009019</td>\n",
              "    </tr>\n",
              "    <tr>\n",
              "      <th>3</th>\n",
              "      <td>1.016040</td>\n",
              "      <td>1.910143</td>\n",
              "      <td>2674.063117</td>\n",
              "      <td>0.154920</td>\n",
              "      <td>0.699454</td>\n",
              "      <td>6822805.0</td>\n",
              "      <td>0.821300</td>\n",
              "      <td>7.146942</td>\n",
              "      <td>0.305813</td>\n",
              "      <td>313.990154</td>\n",
              "      <td>169.582557</td>\n",
              "      <td>0.000692</td>\n",
              "      <td>233.317436</td>\n",
              "      <td>3.022417e+09</td>\n",
              "      <td>0.006734</td>\n",
              "    </tr>\n",
              "    <tr>\n",
              "      <th>4</th>\n",
              "      <td>1.009311</td>\n",
              "      <td>1.654511</td>\n",
              "      <td>-17321.634925</td>\n",
              "      <td>0.156768</td>\n",
              "      <td>0.694940</td>\n",
              "      <td>6830653.0</td>\n",
              "      <td>0.812763</td>\n",
              "      <td>7.131518</td>\n",
              "      <td>0.303631</td>\n",
              "      <td>324.924804</td>\n",
              "      <td>169.652235</td>\n",
              "      <td>0.000679</td>\n",
              "      <td>233.463981</td>\n",
              "      <td>3.024257e+09</td>\n",
              "      <td>-0.001695</td>\n",
              "    </tr>\n",
              "    <tr>\n",
              "      <th>5</th>\n",
              "      <td>1.009046</td>\n",
              "      <td>1.478699</td>\n",
              "      <td>2674.220665</td>\n",
              "      <td>0.158597</td>\n",
              "      <td>0.677147</td>\n",
              "      <td>6840668.0</td>\n",
              "      <td>0.805785</td>\n",
              "      <td>7.098181</td>\n",
              "      <td>0.300722</td>\n",
              "      <td>334.869010</td>\n",
              "      <td>169.693939</td>\n",
              "      <td>0.000581</td>\n",
              "      <td>233.598780</td>\n",
              "      <td>3.025839e+09</td>\n",
              "      <td>-0.007483</td>\n",
              "    </tr>\n",
              "  </tbody>\n",
              "</table>\n",
              "</div>"
            ],
            "text/plain": [
              "     a_sopr  puell_multiple  ...  investor_capitalization  price_pct\n",
              "1  1.006339        1.539487  ...             3.017969e+09   0.000088\n",
              "2  1.015510        1.525893  ...             3.019992e+09  -0.009019\n",
              "3  1.016040        1.910143  ...             3.022417e+09   0.006734\n",
              "4  1.009311        1.654511  ...             3.024257e+09  -0.001695\n",
              "5  1.009046        1.478699  ...             3.025839e+09  -0.007483\n",
              "\n",
              "[5 rows x 15 columns]"
            ]
          },
          "metadata": {},
          "execution_count": 65
        }
      ]
    },
    {
      "cell_type": "code",
      "metadata": {
        "colab": {
          "base_uri": "https://localhost:8080/"
        },
        "id": "eRkZmMGPXs6z",
        "outputId": "4698b692-a5e8-49f1-ebb2-a4152c8cb81b"
      },
      "source": [
        "# Define target set by selecting the DEFAULT column\n",
        "y = btc_df[\"BS\"]\n",
        "\n",
        "# Display a sample y\n",
        "y[:5]"
      ],
      "execution_count": null,
      "outputs": [
        {
          "output_type": "execute_result",
          "data": {
            "text/plain": [
              "1    0.0\n",
              "2    1.0\n",
              "3    0.0\n",
              "4    0.0\n",
              "5    1.0\n",
              "Name: BS, dtype: float64"
            ]
          },
          "metadata": {},
          "execution_count": 66
        }
      ]
    },
    {
      "cell_type": "code",
      "metadata": {
        "id": "PbVqNCjDX7yw"
      },
      "source": [
        "# Create training and testing datasets using train_test_split\n",
        "# Assign the function a random_state equal to 1\n",
        "X_train, X_test, y_train, y_test = train_test_split(X, y, random_state=1)"
      ],
      "execution_count": null,
      "outputs": []
    },
    {
      "cell_type": "code",
      "metadata": {
        "id": "awbyHbGFX_78"
      },
      "source": [
        "# Create the StandardScaler instance\n",
        "X_scaler = StandardScaler()"
      ],
      "execution_count": null,
      "outputs": []
    },
    {
      "cell_type": "code",
      "metadata": {
        "colab": {
          "base_uri": "https://localhost:8080/"
        },
        "id": "QmgeXiglYEgB",
        "outputId": "2e7702ad-26e2-4887-fa35-6ddd2252f47e"
      },
      "source": [
        "# Fit the scaler to the features training dataset\n",
        "X_scaler.fit(X_train)"
      ],
      "execution_count": null,
      "outputs": [
        {
          "output_type": "execute_result",
          "data": {
            "text/plain": [
              "StandardScaler()"
            ]
          },
          "metadata": {},
          "execution_count": 69
        }
      ]
    },
    {
      "cell_type": "code",
      "metadata": {
        "id": "1G17Z0yJYMo9"
      },
      "source": [
        "# Scale both the training and testing data from the features dataset\n",
        "X_train_scaled = X_scaler.transform(X_train)\n",
        "X_test_scaled = X_scaler.transform(X_test)"
      ],
      "execution_count": null,
      "outputs": []
    },
    {
      "cell_type": "code",
      "metadata": {
        "id": "InY-QIZRYRfP"
      },
      "source": [
        "# Imports\n",
        "import tensorflow as tf\n",
        "from tensorflow.keras.layers import Dense\n",
        "from tensorflow.keras.models import Sequential"
      ],
      "execution_count": null,
      "outputs": []
    },
    {
      "cell_type": "code",
      "metadata": {
        "id": "2EgTw80sYSmn"
      },
      "source": [
        "# Define the the number of inputs to the model\n",
        "number_inputs = 15\n",
        "\n",
        "# Define the number of hidden nodes for the model\n",
        "number_hidden_nodes = 7\n",
        "\n",
        "# Create the Sequential model instance\n",
        "neuron = Sequential()\n",
        "\n",
        "# Add a Dense layer specifying the number of inputs, the number of hidden nodes, and the activation function\n",
        "neuron.add(Dense(units=number_hidden_nodes, input_dim=number_inputs, activation=\"relu\"))\n",
        "\n",
        "# Add the output layer to the model specifying the number of output neurons and activation function\n",
        "neuron.add(Dense(1, activation=\"sigmoid\"))"
      ],
      "execution_count": null,
      "outputs": []
    },
    {
      "cell_type": "code",
      "metadata": {
        "colab": {
          "base_uri": "https://localhost:8080/"
        },
        "id": "heF7JaLkYXPs",
        "outputId": "ea600d6d-2b6c-4a76-847b-abb9a0bd9725"
      },
      "source": [
        "neuron.summary()"
      ],
      "execution_count": null,
      "outputs": [
        {
          "output_type": "stream",
          "name": "stdout",
          "text": [
            "Model: \"sequential_2\"\n",
            "_________________________________________________________________\n",
            " Layer (type)                Output Shape              Param #   \n",
            "=================================================================\n",
            " dense_4 (Dense)             (None, 7)                 112       \n",
            "                                                                 \n",
            " dense_5 (Dense)             (None, 1)                 8         \n",
            "                                                                 \n",
            "=================================================================\n",
            "Total params: 120\n",
            "Trainable params: 120\n",
            "Non-trainable params: 0\n",
            "_________________________________________________________________\n"
          ]
        }
      ]
    },
    {
      "cell_type": "code",
      "metadata": {
        "id": "aSQBvzrJZG8J"
      },
      "source": [
        "# Imports\n",
        "import pandas as pd\n",
        "import tensorflow as tf\n",
        "from tensorflow.keras.layers import Dense\n",
        "from tensorflow.keras.models import Sequential\n",
        "from sklearn.preprocessing import StandardScaler\n",
        "from sklearn.model_selection import train_test_split\n",
        "\n",
        "%matplotlib inline"
      ],
      "execution_count": null,
      "outputs": []
    },
    {
      "cell_type": "code",
      "metadata": {
        "id": "48ob48xtZIQ0"
      },
      "source": [
        "# Compile the Sequential model\n",
        "neuron.compile(loss=\"binary_crossentropy\", optimizer=\"adam\", metrics=[\"accuracy\"])"
      ],
      "execution_count": null,
      "outputs": []
    },
    {
      "cell_type": "code",
      "metadata": {
        "colab": {
          "base_uri": "https://localhost:8080/"
        },
        "id": "wC_7emiWZR4Q",
        "outputId": "29b92dae-0a64-415d-eb6d-cc9a2bef1d76"
      },
      "source": [
        "# Fit the model using 100 epochs and the training data\n",
        "model = neuron.fit(X_train_scaled, y_train, epochs=100)"
      ],
      "execution_count": null,
      "outputs": [
        {
          "output_type": "stream",
          "name": "stdout",
          "text": [
            "Epoch 1/100\n",
            "51/51 [==============================] - 1s 2ms/step - loss: 0.7854 - accuracy: 0.5093\n",
            "Epoch 2/100\n",
            "51/51 [==============================] - 0s 2ms/step - loss: 0.7291 - accuracy: 0.5130\n",
            "Epoch 3/100\n",
            "51/51 [==============================] - 0s 2ms/step - loss: 0.7120 - accuracy: 0.5136\n",
            "Epoch 4/100\n",
            "51/51 [==============================] - 0s 2ms/step - loss: 0.7033 - accuracy: 0.5191\n",
            "Epoch 5/100\n",
            "51/51 [==============================] - 0s 2ms/step - loss: 0.6982 - accuracy: 0.5210\n",
            "Epoch 6/100\n",
            "51/51 [==============================] - 0s 2ms/step - loss: 0.6939 - accuracy: 0.5204\n",
            "Epoch 7/100\n",
            "51/51 [==============================] - 0s 2ms/step - loss: 0.6908 - accuracy: 0.5278\n",
            "Epoch 8/100\n",
            "51/51 [==============================] - 0s 2ms/step - loss: 0.6888 - accuracy: 0.5358\n",
            "Epoch 9/100\n",
            "51/51 [==============================] - 0s 2ms/step - loss: 0.6873 - accuracy: 0.5426\n",
            "Epoch 10/100\n",
            "51/51 [==============================] - 0s 2ms/step - loss: 0.6858 - accuracy: 0.5488\n",
            "Epoch 11/100\n",
            "51/51 [==============================] - 0s 2ms/step - loss: 0.6850 - accuracy: 0.5525\n",
            "Epoch 12/100\n",
            "51/51 [==============================] - 0s 2ms/step - loss: 0.6843 - accuracy: 0.5494\n",
            "Epoch 13/100\n",
            "51/51 [==============================] - 0s 2ms/step - loss: 0.6838 - accuracy: 0.5580\n",
            "Epoch 14/100\n",
            "51/51 [==============================] - 0s 2ms/step - loss: 0.6837 - accuracy: 0.5512\n",
            "Epoch 15/100\n",
            "51/51 [==============================] - 0s 2ms/step - loss: 0.6833 - accuracy: 0.5556\n",
            "Epoch 16/100\n",
            "51/51 [==============================] - 0s 2ms/step - loss: 0.6825 - accuracy: 0.5654\n",
            "Epoch 17/100\n",
            "51/51 [==============================] - 0s 2ms/step - loss: 0.6820 - accuracy: 0.5648\n",
            "Epoch 18/100\n",
            "51/51 [==============================] - 0s 2ms/step - loss: 0.6818 - accuracy: 0.5642\n",
            "Epoch 19/100\n",
            "51/51 [==============================] - 0s 2ms/step - loss: 0.6815 - accuracy: 0.5623\n",
            "Epoch 20/100\n",
            "51/51 [==============================] - 0s 2ms/step - loss: 0.6814 - accuracy: 0.5623\n",
            "Epoch 21/100\n",
            "51/51 [==============================] - 0s 2ms/step - loss: 0.6814 - accuracy: 0.5679\n",
            "Epoch 22/100\n",
            "51/51 [==============================] - 0s 2ms/step - loss: 0.6808 - accuracy: 0.5630\n",
            "Epoch 23/100\n",
            "51/51 [==============================] - 0s 2ms/step - loss: 0.6803 - accuracy: 0.5593\n",
            "Epoch 24/100\n",
            "51/51 [==============================] - 0s 2ms/step - loss: 0.6802 - accuracy: 0.5617\n",
            "Epoch 25/100\n",
            "51/51 [==============================] - 0s 2ms/step - loss: 0.6802 - accuracy: 0.5654\n",
            "Epoch 26/100\n",
            "51/51 [==============================] - 0s 2ms/step - loss: 0.6800 - accuracy: 0.5673\n",
            "Epoch 27/100\n",
            "51/51 [==============================] - 0s 2ms/step - loss: 0.6798 - accuracy: 0.5636\n",
            "Epoch 28/100\n",
            "51/51 [==============================] - 0s 2ms/step - loss: 0.6795 - accuracy: 0.5691\n",
            "Epoch 29/100\n",
            "51/51 [==============================] - 0s 2ms/step - loss: 0.6799 - accuracy: 0.5722\n",
            "Epoch 30/100\n",
            "51/51 [==============================] - 0s 2ms/step - loss: 0.6795 - accuracy: 0.5772\n",
            "Epoch 31/100\n",
            "51/51 [==============================] - 0s 2ms/step - loss: 0.6793 - accuracy: 0.5605\n",
            "Epoch 32/100\n",
            "51/51 [==============================] - 0s 2ms/step - loss: 0.6794 - accuracy: 0.5704\n",
            "Epoch 33/100\n",
            "51/51 [==============================] - 0s 2ms/step - loss: 0.6791 - accuracy: 0.5673\n",
            "Epoch 34/100\n",
            "51/51 [==============================] - 0s 2ms/step - loss: 0.6790 - accuracy: 0.5660\n",
            "Epoch 35/100\n",
            "51/51 [==============================] - 0s 2ms/step - loss: 0.6793 - accuracy: 0.5648\n",
            "Epoch 36/100\n",
            "51/51 [==============================] - 0s 2ms/step - loss: 0.6789 - accuracy: 0.5667\n",
            "Epoch 37/100\n",
            "51/51 [==============================] - 0s 2ms/step - loss: 0.6786 - accuracy: 0.5667\n",
            "Epoch 38/100\n",
            "51/51 [==============================] - 0s 2ms/step - loss: 0.6785 - accuracy: 0.5691\n",
            "Epoch 39/100\n",
            "51/51 [==============================] - 0s 2ms/step - loss: 0.6788 - accuracy: 0.5685\n",
            "Epoch 40/100\n",
            "51/51 [==============================] - 0s 2ms/step - loss: 0.6782 - accuracy: 0.5685\n",
            "Epoch 41/100\n",
            "51/51 [==============================] - 0s 2ms/step - loss: 0.6784 - accuracy: 0.5617\n",
            "Epoch 42/100\n",
            "51/51 [==============================] - 0s 2ms/step - loss: 0.6781 - accuracy: 0.5741\n",
            "Epoch 43/100\n",
            "51/51 [==============================] - 0s 2ms/step - loss: 0.6779 - accuracy: 0.5630\n",
            "Epoch 44/100\n",
            "51/51 [==============================] - 0s 2ms/step - loss: 0.6783 - accuracy: 0.5599\n",
            "Epoch 45/100\n",
            "51/51 [==============================] - 0s 2ms/step - loss: 0.6777 - accuracy: 0.5691\n",
            "Epoch 46/100\n",
            "51/51 [==============================] - 0s 2ms/step - loss: 0.6773 - accuracy: 0.5648\n",
            "Epoch 47/100\n",
            "51/51 [==============================] - 0s 2ms/step - loss: 0.6774 - accuracy: 0.5710\n",
            "Epoch 48/100\n",
            "51/51 [==============================] - 0s 2ms/step - loss: 0.6771 - accuracy: 0.5685\n",
            "Epoch 49/100\n",
            "51/51 [==============================] - 0s 2ms/step - loss: 0.6767 - accuracy: 0.5660\n",
            "Epoch 50/100\n",
            "51/51 [==============================] - 0s 2ms/step - loss: 0.6768 - accuracy: 0.5667\n",
            "Epoch 51/100\n",
            "51/51 [==============================] - 0s 2ms/step - loss: 0.6776 - accuracy: 0.5642\n",
            "Epoch 52/100\n",
            "51/51 [==============================] - 0s 2ms/step - loss: 0.6767 - accuracy: 0.5691\n",
            "Epoch 53/100\n",
            "51/51 [==============================] - 0s 2ms/step - loss: 0.6772 - accuracy: 0.5704\n",
            "Epoch 54/100\n",
            "51/51 [==============================] - 0s 2ms/step - loss: 0.6766 - accuracy: 0.5593\n",
            "Epoch 55/100\n",
            "51/51 [==============================] - 0s 2ms/step - loss: 0.6762 - accuracy: 0.5710\n",
            "Epoch 56/100\n",
            "51/51 [==============================] - 0s 2ms/step - loss: 0.6762 - accuracy: 0.5667\n",
            "Epoch 57/100\n",
            "51/51 [==============================] - 0s 2ms/step - loss: 0.6763 - accuracy: 0.5673\n",
            "Epoch 58/100\n",
            "51/51 [==============================] - 0s 2ms/step - loss: 0.6757 - accuracy: 0.5741\n",
            "Epoch 59/100\n",
            "51/51 [==============================] - 0s 2ms/step - loss: 0.6758 - accuracy: 0.5722\n",
            "Epoch 60/100\n",
            "51/51 [==============================] - 0s 2ms/step - loss: 0.6756 - accuracy: 0.5648\n",
            "Epoch 61/100\n",
            "51/51 [==============================] - 0s 2ms/step - loss: 0.6753 - accuracy: 0.5667\n",
            "Epoch 62/100\n",
            "51/51 [==============================] - 0s 2ms/step - loss: 0.6750 - accuracy: 0.5704\n",
            "Epoch 63/100\n",
            "51/51 [==============================] - 0s 2ms/step - loss: 0.6747 - accuracy: 0.5704\n",
            "Epoch 64/100\n",
            "51/51 [==============================] - 0s 2ms/step - loss: 0.6749 - accuracy: 0.5741\n",
            "Epoch 65/100\n",
            "51/51 [==============================] - 0s 2ms/step - loss: 0.6745 - accuracy: 0.5698\n",
            "Epoch 66/100\n",
            "51/51 [==============================] - 0s 2ms/step - loss: 0.6748 - accuracy: 0.5722\n",
            "Epoch 67/100\n",
            "51/51 [==============================] - 0s 2ms/step - loss: 0.6741 - accuracy: 0.5772\n",
            "Epoch 68/100\n",
            "51/51 [==============================] - 0s 2ms/step - loss: 0.6742 - accuracy: 0.5753\n",
            "Epoch 69/100\n",
            "51/51 [==============================] - 0s 2ms/step - loss: 0.6737 - accuracy: 0.5747\n",
            "Epoch 70/100\n",
            "51/51 [==============================] - 0s 2ms/step - loss: 0.6745 - accuracy: 0.5747\n",
            "Epoch 71/100\n",
            "51/51 [==============================] - 0s 2ms/step - loss: 0.6739 - accuracy: 0.5772\n",
            "Epoch 72/100\n",
            "51/51 [==============================] - 0s 2ms/step - loss: 0.6735 - accuracy: 0.5778\n",
            "Epoch 73/100\n",
            "51/51 [==============================] - 0s 2ms/step - loss: 0.6737 - accuracy: 0.5765\n",
            "Epoch 74/100\n",
            "51/51 [==============================] - 0s 2ms/step - loss: 0.6736 - accuracy: 0.5778\n",
            "Epoch 75/100\n",
            "51/51 [==============================] - 0s 2ms/step - loss: 0.6734 - accuracy: 0.5741\n",
            "Epoch 76/100\n",
            "51/51 [==============================] - 0s 2ms/step - loss: 0.6731 - accuracy: 0.5753\n",
            "Epoch 77/100\n",
            "51/51 [==============================] - 0s 2ms/step - loss: 0.6727 - accuracy: 0.5765\n",
            "Epoch 78/100\n",
            "51/51 [==============================] - 0s 2ms/step - loss: 0.6725 - accuracy: 0.5796\n",
            "Epoch 79/100\n",
            "51/51 [==============================] - 0s 2ms/step - loss: 0.6722 - accuracy: 0.5796\n",
            "Epoch 80/100\n",
            "51/51 [==============================] - 0s 2ms/step - loss: 0.6726 - accuracy: 0.5778\n",
            "Epoch 81/100\n",
            "51/51 [==============================] - 0s 2ms/step - loss: 0.6723 - accuracy: 0.5796\n",
            "Epoch 82/100\n",
            "51/51 [==============================] - 0s 2ms/step - loss: 0.6719 - accuracy: 0.5784\n",
            "Epoch 83/100\n",
            "51/51 [==============================] - 0s 2ms/step - loss: 0.6717 - accuracy: 0.5840\n",
            "Epoch 84/100\n",
            "51/51 [==============================] - 0s 2ms/step - loss: 0.6716 - accuracy: 0.5790\n",
            "Epoch 85/100\n",
            "51/51 [==============================] - 0s 2ms/step - loss: 0.6714 - accuracy: 0.5815\n",
            "Epoch 86/100\n",
            "51/51 [==============================] - 0s 2ms/step - loss: 0.6713 - accuracy: 0.5846\n",
            "Epoch 87/100\n",
            "51/51 [==============================] - 0s 2ms/step - loss: 0.6717 - accuracy: 0.5728\n",
            "Epoch 88/100\n",
            "51/51 [==============================] - 0s 2ms/step - loss: 0.6717 - accuracy: 0.5765\n",
            "Epoch 89/100\n",
            "51/51 [==============================] - 0s 2ms/step - loss: 0.6713 - accuracy: 0.5858\n",
            "Epoch 90/100\n",
            "51/51 [==============================] - 0s 2ms/step - loss: 0.6713 - accuracy: 0.5796\n",
            "Epoch 91/100\n",
            "51/51 [==============================] - 0s 2ms/step - loss: 0.6708 - accuracy: 0.5833\n",
            "Epoch 92/100\n",
            "51/51 [==============================] - 0s 2ms/step - loss: 0.6705 - accuracy: 0.5833\n",
            "Epoch 93/100\n",
            "51/51 [==============================] - 0s 2ms/step - loss: 0.6707 - accuracy: 0.5883\n",
            "Epoch 94/100\n",
            "51/51 [==============================] - 0s 2ms/step - loss: 0.6705 - accuracy: 0.5778\n",
            "Epoch 95/100\n",
            "51/51 [==============================] - 0s 2ms/step - loss: 0.6700 - accuracy: 0.5809\n",
            "Epoch 96/100\n",
            "51/51 [==============================] - 0s 2ms/step - loss: 0.6704 - accuracy: 0.5815\n",
            "Epoch 97/100\n",
            "51/51 [==============================] - 0s 2ms/step - loss: 0.6700 - accuracy: 0.5840\n",
            "Epoch 98/100\n",
            "51/51 [==============================] - 0s 2ms/step - loss: 0.6701 - accuracy: 0.5827\n",
            "Epoch 99/100\n",
            "51/51 [==============================] - 0s 2ms/step - loss: 0.6698 - accuracy: 0.5827\n",
            "Epoch 100/100\n",
            "51/51 [==============================] - 0s 2ms/step - loss: 0.6693 - accuracy: 0.5852\n"
          ]
        }
      ]
    },
    {
      "cell_type": "code",
      "metadata": {
        "id": "6VaxPxybZ9fh"
      },
      "source": [
        "# Create a DataFrame using the model history and an index parameter\n",
        "model_plot = pd.DataFrame(model.history, index=range(1, len(model.history[\"loss\"]) + 1))"
      ],
      "execution_count": null,
      "outputs": []
    },
    {
      "cell_type": "code",
      "metadata": {
        "colab": {
          "base_uri": "https://localhost:8080/",
          "height": 282
        },
        "id": "VhX8mf5naA0U",
        "outputId": "65c40f01-9427-4820-ae69-063a39cd5002"
      },
      "source": [
        "# Vizualize the model plot where the y-axis displays the loss metric\n",
        "model_plot.plot(y=\"loss\")"
      ],
      "execution_count": null,
      "outputs": [
        {
          "output_type": "execute_result",
          "data": {
            "text/plain": [
              "<matplotlib.axes._subplots.AxesSubplot at 0x7f057c87dc50>"
            ]
          },
          "metadata": {},
          "execution_count": 78
        },
        {
          "output_type": "display_data",
          "data": {
            "image/png": "[encoded data removed]",
            "text/plain": [
              "<Figure size 432x288 with 1 Axes>"
            ]
          },
          "metadata": {
            "needs_background": "light"
          }
        }
      ]
    },
    {
      "cell_type": "code",
      "metadata": {
        "colab": {
          "base_uri": "https://localhost:8080/",
          "height": 282
        },
        "id": "fnUED5COaGe7",
        "outputId": "135c7710-3a2a-4994-ffd1-789ff2204f41"
      },
      "source": [
        "# Vizualize the model plot where the y-axis displays the accuracy metric\n",
        "model_plot.plot(y=\"accuracy\")"
      ],
      "execution_count": null,
      "outputs": [
        {
          "output_type": "execute_result",
          "data": {
            "text/plain": [
              "<matplotlib.axes._subplots.AxesSubplot at 0x7f057b5abed0>"
            ]
          },
          "metadata": {},
          "execution_count": 79
        },
        {
          "output_type": "display_data",
          "data": {
            "image/png": "[encoded data removed]",
            "text/plain": [
              "<Figure size 432x288 with 1 Axes>"
            ]
          },
          "metadata": {
            "needs_background": "light"
          }
        }
      ]
    },
    {
      "cell_type": "code",
      "metadata": {
        "colab": {
          "base_uri": "https://localhost:8080/"
        },
        "id": "O3UcADcPaJM_",
        "outputId": "81a71e94-8f01-4ebb-bff7-a42d4f6fd259"
      },
      "source": [
        "# Evaluate the model loss and accuracy metrics using the evaluate method and the test data\n",
        "model_loss, model_accuracy = neuron.evaluate(X_test_scaled, y_test, verbose=2)\n",
        "\n",
        "# Display the evaluation results\n",
        "print(f\"Loss: {model_loss}, Accuracy: {model_accuracy}\")"
      ],
      "execution_count": null,
      "outputs": [
        {
          "output_type": "stream",
          "name": "stdout",
          "text": [
            "17/17 - 0s - loss: 0.6979 - accuracy: 0.5148 - 179ms/epoch - 11ms/step\n",
            "Loss: 0.6979438662528992, Accuracy: 0.5148147940635681\n"
          ]
        }
      ]
    },
    {
      "cell_type": "code",
      "metadata": {
        "id": "G4QYrzA3zsgJ"
      },
      "source": [
        ""
      ],
      "execution_count": null,
      "outputs": []
    }
  ]
}