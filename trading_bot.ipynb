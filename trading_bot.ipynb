{
 "cells": [
  {
   "cell_type": "code",
   "execution_count": null,
   "id": "adae06bc-5e56-42f5-b51b-4d57301b0084",
   "metadata": {},
   "outputs": [],
   "source": [
    "# Import libraries\n",
    "\n",
    "import pandas as pd\n",
    "import hvplot.pandas\n",
    "from pathlib import Path\n",
    "\n",
    "# machine learning libraries\n",
    "from pandas.tseries.offsets import DateOffset\n",
    "\n",
    "# neural net ones\n",
    "from tensorflow.keras.models import Sequential\n",
    "from tensorflow.keras.layers import Dense"
   ]
  },
  {
   "cell_type": "code",
   "execution_count": null,
   "id": "4b4000d5-2de2-4f2c-9513-461c6ae63e3d",
   "metadata": {},
   "outputs": [],
   "source": [
    "# Process Data"
   ]
  },
  {
   "cell_type": "code",
   "execution_count": null,
   "id": "9c4f8b79-f103-4472-9fbb-cbe17f30b3a5",
   "metadata": {},
   "outputs": [],
   "source": [
    "# ML algo 1"
   ]
  },
  {
   "cell_type": "code",
   "execution_count": null,
   "id": "9f4699e9-4a61-4f84-8b11-ae56ea634395",
   "metadata": {},
   "outputs": [],
   "source": [
    "# ML algo 2 "
   ]
  },
  {
   "cell_type": "code",
   "execution_count": null,
   "id": "c66ff0ca-dc61-49fb-a554-1ec45a2ac953",
   "metadata": {},
   "outputs": [],
   "source": [
    "# backtest"
   ]
  },
  {
   "cell_type": "code",
   "execution_count": null,
   "id": "9e3df4e0-842e-4e17-8e1e-50f43c2b1d77",
   "metadata": {},
   "outputs": [],
   "source": [
    "# Analyze"
   ]
  },
  {
   "cell_type": "code",
   "execution_count": null,
   "id": "24df19d1-9118-470d-8c2b-2a007bdcc857",
   "metadata": {},
   "outputs": [],
   "source": []
  }
 ],
 "metadata": {
  "kernelspec": {
   "display_name": "py38",
   "language": "python",
   "name": "py38"
  },
  "language_info": {
   "codemirror_mode": {
    "name": "ipython",
    "version": 3
   },
   "file_extension": ".py",
   "mimetype": "text/x-python",
   "name": "python",
   "nbconvert_exporter": "python",
   "pygments_lexer": "ipython3",
   "version": "3.8.11"
  }
 },
 "nbformat": 4,
 "nbformat_minor": 5
}
