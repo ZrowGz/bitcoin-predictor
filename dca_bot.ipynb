{
 "cells": [
  {
   "cell_type": "markdown",
   "id": "8e2b8511-8f30-479f-8cb7-f852a20cffbd",
   "metadata": {},
   "source": [
    "Just starting to formulate the layout of this"
   ]
  },
  {
   "cell_type": "code",
   "execution_count": null,
   "id": "1d697634-698f-4f9b-bc3e-f16b15828231",
   "metadata": {},
   "outputs": [],
   "source": []
  },
  {
   "cell_type": "code",
   "execution_count": null,
   "id": "8b8678fe-8c0b-48b6-acb9-c37b2bb49ee8",
   "metadata": {},
   "outputs": [],
   "source": [
    "# Calculate strategy returns\n",
    "dataset['strategy_returns'] = dataset['price_pct_change'] * dataset['signal'].shift()\n",
    "dataset.head(10)"
   ]
  },
  {
   "cell_type": "code",
   "execution_count": null,
   "id": "c8f55378-6778-4513-967a-f8b10ff2d825",
   "metadata": {},
   "outputs": [],
   "source": [
    "# import signal data\n",
    "\n",
    "signal = pd.read_csv()"
   ]
  },
  {
   "cell_type": "code",
   "execution_count": null,
   "id": "b5e91330-70e0-40b6-bc73-e2c91051766a",
   "metadata": {},
   "outputs": [],
   "source": []
  },
  {
   "cell_type": "code",
   "execution_count": null,
   "id": "7fb92310-e56a-4408-8119-a9b8ed90b5e6",
   "metadata": {},
   "outputs": [],
   "source": [
    "# Define how to act upon signals\n",
    "\n",
    "# Instantiate holdings\n",
    "holdings = 0.0\n",
    "buy_size = 0.1\n",
    "sell_size = 0.25\n",
    "portfolio_value = btc_df['price'] * holdings\n",
    "cost_basis = 0\n",
    "position = 0\n",
    "\n",
    "# Determine if portfolio position is net short, neutral, or net long\n",
    "\n",
    "\n",
    "def position_status(holdings, position)\n",
    "    # assign 0 to unallocated position\n",
    "    if holdings = 0.0:\n",
    "        position = 0\n",
    "        return position\n",
    "    # assign 1 to long position\n",
    "    elif holdings > 0.0:\n",
    "        position = 1\n",
    "        return position\n",
    "    else:\n",
    "        print('ERROR: holdings must be greater than or equal to 0')\n",
    "        \n",
    "\n",
    "    \n",
    "\n",
    "\n",
    "def actions(holdings, signal, buy_size, sell_size, cost_basis)\n",
    "    # define what trade action to take\n",
    "    if signal == 1.0:\n",
    "        if holdings >= 0:\n",
    "            holdings = holdings + order_size\n",
    "            buy_cost = order_size * btc_df['price']\n",
    "            cost_basis = cost_basis + trade_cost\n",
    "        return holdings, cost_basis\n",
    "    elif signal == 0.0:\n",
    "        if holdings > buy_size:\n",
    "            amt_sold = holdings * sell_size\n",
    "            holdings = holdings - amt_sold\n",
    "            sell_cost = amt_sold * btc_df['price']\n",
    "            cost_basis = cost_basis - sell_cost\n",
    "        else:\n",
    "            # sell entire position\n",
    "            amt_sold = holdings\n",
    "            holdings = 0\n",
    "            sell_cost = amt_sold * btc_df['price']\n",
    "            cost_basis = cost_basis - sell_cost\n",
    "        return holdings, cost_basis\n",
    "    else:\n",
    "        print('ERROR: signal value must be either 0 (SELL) or 1 (BUY))\n",
    "            \n",
    "    \n",
    "    \n",
    "# assign -1 to short position\n",
    "#else:\n",
    "#    position = -1\n",
    "\n",
    "### if position is >=0 and signal is 'buy', +order_size to holdings\n",
    "### if position is >=0 when signal is 'sell', sell 50% of holdings\n",
    "### if position is 0 when signal is 'hodl', do nothing\n",
    "### if position is <=0 when signal is 'sell', +0.1 to holdings\n",
    "### if position is <=0 when signal is 'buy', buy 50% of holdings\n",
    "\n",
    "\n",
    "\n",
    "\n",
    "\n",
    "# create strategy returns column\n",
    "dataset['strategy_returns'] = 0.0\n",
    "\n",
    "# Calculate returns\n",
    "if position = 0:\n",
    "    dataset['strategy_returns'] = holdings * dataset['price_pct_change']\n",
    "if position = 1: \n",
    "    dataset['strategy_returns'] = holdings * dataset[\n",
    "\n",
    "# Review the DataFrame\n",
    "display(signals_df.head())\n",
    "display(signals_df.tail())"
   ]
  },
  {
   "cell_type": "code",
   "execution_count": null,
   "id": "1af794b2-3d07-48a1-b46a-9ee1ad6d5a73",
   "metadata": {},
   "outputs": [],
   "source": [
    "def trade(signals, holdings)\n",
    "\n"
   ]
  }
 ],
 "metadata": {
  "kernelspec": {
   "display_name": "py38",
   "language": "python",
   "name": "py38"
  },
  "language_info": {
   "codemirror_mode": {
    "name": "ipython",
    "version": 3
   },
   "file_extension": ".py",
   "mimetype": "text/x-python",
   "name": "python",
   "nbconvert_exporter": "python",
   "pygments_lexer": "ipython3",
   "version": "3.8.11"
  }
 },
 "nbformat": 4,
 "nbformat_minor": 5
}
