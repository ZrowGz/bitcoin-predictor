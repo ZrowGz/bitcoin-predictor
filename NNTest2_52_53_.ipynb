{
  "nbformat": 4,
  "nbformat_minor": 0,
  "metadata": {
    "colab": {
      "name": "NNTest2_52-53%.ipynb",
      "provenance": [],
      "collapsed_sections": [],
      "authorship_tag": "ABX9TyOJKLCJgwuNkpo0aWRAzhJe",
      "include_colab_link": true
    },
    "kernelspec": {
      "name": "python3",
      "display_name": "Python 3"
    },
    "language_info": {
      "name": "python"
    }
  },
  "cells": [
    {
      "cell_type": "markdown",
      "metadata": {
        "id": "view-in-github",
        "colab_type": "text"
      },
      "source": [
        "<a href=\"https://colab.research.google.com/github/ZrowGz/trading-bot/blob/viny/NNTest2_52_53_.ipynb\" target=\"_parent\"><img src=\"https://colab.research.google.com/assets/colab-badge.svg\" alt=\"Open In Colab\"/></a>"
      ]
    },
    {
      "cell_type": "code",
      "metadata": {
        "id": "bzgWTYdYbpQQ"
      },
      "source": [
        "# Imports\n",
        "import pandas as pd\n",
        "import numpy as np\n",
        "from sklearn.datasets import make_classification\n",
        "from sklearn.model_selection import train_test_split\n",
        "from sklearn.preprocessing import StandardScaler\n",
        "from tensorflow.keras.models import Sequential\n",
        "from tensorflow.keras.layers import Dense\n",
        "\n",
        "%matplotlib inline"
      ],
      "execution_count": null,
      "outputs": []
    },
    {
      "cell_type": "code",
      "metadata": {
        "colab": {
          "resources": {
            "http://localhost:8080/nbextensions/google.colab/files.js": {
              "data": "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",
              "ok": true,
              "headers": [
                [
                  "content-type",
                  "application/javascript"
                ]
              ],
              "status": 200,
              "status_text": ""
            }
          },
          "base_uri": "https://localhost:8080/",
          "height": 72
        },
        "id": "1zU_MjI5brbU",
        "outputId": "a0427d49-f0c9-4978-be76-383db5a34537"
      },
      "source": [
        "from google.colab import files\n",
        "\n",
        "csv_file = files.upload()"
      ],
      "execution_count": null,
      "outputs": [
        {
          "output_type": "display_data",
          "data": {
            "text/html": [
              "\n",
              "     <input type=\"file\" id=\"files-60d83086-daf2-41d5-92c7-52f75f332ef1\" name=\"files[]\" multiple disabled\n",
              "        style=\"border:none\" />\n",
              "     <output id=\"result-60d83086-daf2-41d5-92c7-52f75f332ef1\">\n",
              "      Upload widget is only available when the cell has been executed in the\n",
              "      current browser session. Please rerun this cell to enable.\n",
              "      </output>\n",
              "      <script src=\"/nbextensions/google.colab/files.js\"></script> "
            ],
            "text/plain": [
              "<IPython.core.display.HTML object>"
            ]
          },
          "metadata": {}
        },
        {
          "output_type": "stream",
          "name": "stdout",
          "text": [
            "Saving btc_metrics.csv to btc_metrics.csv\n"
          ]
        }
      ]
    },
    {
      "cell_type": "code",
      "metadata": {
        "colab": {
          "base_uri": "https://localhost:8080/",
          "height": 309
        },
        "id": "LFbi-NLybwxB",
        "outputId": "4748f7e8-f347-4542-e7a1-3854d23b36ed"
      },
      "source": [
        "# Read the bitcoin Glassnode indicator data into a Pandas DataFrame\n",
        "btc_dfa = pd.read_csv(\"btc_metrics.csv\")\n",
        "\n",
        "# Review the DataFrame\n",
        "btc_dfa.head()"
      ],
      "execution_count": null,
      "outputs": [
        {
          "output_type": "execute_result",
          "data": {
            "text/html": [
              "<div>\n",
              "<style scoped>\n",
              "    .dataframe tbody tr th:only-of-type {\n",
              "        vertical-align: middle;\n",
              "    }\n",
              "\n",
              "    .dataframe tbody tr th {\n",
              "        vertical-align: top;\n",
              "    }\n",
              "\n",
              "    .dataframe thead th {\n",
              "        text-align: right;\n",
              "    }\n",
              "</style>\n",
              "<table border=\"1\" class=\"dataframe\">\n",
              "  <thead>\n",
              "    <tr style=\"text-align: right;\">\n",
              "      <th></th>\n",
              "      <th>date</th>\n",
              "      <th>price</th>\n",
              "      <th>a_sopr</th>\n",
              "      <th>puell_multiple</th>\n",
              "      <th>exchange_netflow</th>\n",
              "      <th>difficulty_compression_band</th>\n",
              "      <th>mvrv_z_score</th>\n",
              "      <th>nonzero_balance_addresses</th>\n",
              "      <th>%_utxo_in_profit</th>\n",
              "      <th>nvt</th>\n",
              "      <th>nupl</th>\n",
              "      <th>stablecoin_supply</th>\n",
              "      <th>rhodl</th>\n",
              "      <th>cvdd</th>\n",
              "      <th>rpv</th>\n",
              "      <th>balanced_price</th>\n",
              "      <th>investor_capitalization</th>\n",
              "    </tr>\n",
              "  </thead>\n",
              "  <tbody>\n",
              "    <tr>\n",
              "      <th>0</th>\n",
              "      <td>2016-01-01</td>\n",
              "      <td>434.883982</td>\n",
              "      <td>1.017900</td>\n",
              "      <td>1.430684</td>\n",
              "      <td>3084.261365</td>\n",
              "      <td>0.149233</td>\n",
              "      <td>0.707518</td>\n",
              "      <td>6810666.0</td>\n",
              "      <td>0.829427</td>\n",
              "      <td>7.160297</td>\n",
              "      <td>0.310327</td>\n",
              "      <td>NaN</td>\n",
              "      <td>336.693607</td>\n",
              "      <td>169.528788</td>\n",
              "      <td>0.000537</td>\n",
              "      <td>232.840772</td>\n",
              "      <td>3.017275e+09</td>\n",
              "    </tr>\n",
              "    <tr>\n",
              "      <th>1</th>\n",
              "      <td>2016-01-02</td>\n",
              "      <td>434.922420</td>\n",
              "      <td>1.006339</td>\n",
              "      <td>1.539487</td>\n",
              "      <td>-1595.518899</td>\n",
              "      <td>0.151165</td>\n",
              "      <td>0.707028</td>\n",
              "      <td>6795517.0</td>\n",
              "      <td>0.825200</td>\n",
              "      <td>7.169680</td>\n",
              "      <td>0.308427</td>\n",
              "      <td>NaN</td>\n",
              "      <td>322.022994</td>\n",
              "      <td>169.513770</td>\n",
              "      <td>0.000265</td>\n",
              "      <td>232.941445</td>\n",
              "      <td>3.017969e+09</td>\n",
              "    </tr>\n",
              "    <tr>\n",
              "      <th>2</th>\n",
              "      <td>2016-01-03</td>\n",
              "      <td>430.999798</td>\n",
              "      <td>1.015510</td>\n",
              "      <td>1.525893</td>\n",
              "      <td>12546.093856</td>\n",
              "      <td>0.153052</td>\n",
              "      <td>0.686532</td>\n",
              "      <td>6814427.0</td>\n",
              "      <td>0.814204</td>\n",
              "      <td>7.106625</td>\n",
              "      <td>0.302795</td>\n",
              "      <td>NaN</td>\n",
              "      <td>328.552037</td>\n",
              "      <td>169.551559</td>\n",
              "      <td>0.000715</td>\n",
              "      <td>233.108481</td>\n",
              "      <td>3.019992e+09</td>\n",
              "    </tr>\n",
              "    <tr>\n",
              "      <th>3</th>\n",
              "      <td>2016-01-04</td>\n",
              "      <td>433.901991</td>\n",
              "      <td>1.016040</td>\n",
              "      <td>1.910143</td>\n",
              "      <td>2674.063117</td>\n",
              "      <td>0.154920</td>\n",
              "      <td>0.699454</td>\n",
              "      <td>6822805.0</td>\n",
              "      <td>0.821300</td>\n",
              "      <td>7.146942</td>\n",
              "      <td>0.305813</td>\n",
              "      <td>NaN</td>\n",
              "      <td>313.990154</td>\n",
              "      <td>169.582557</td>\n",
              "      <td>0.000692</td>\n",
              "      <td>233.317436</td>\n",
              "      <td>3.022417e+09</td>\n",
              "    </tr>\n",
              "    <tr>\n",
              "      <th>4</th>\n",
              "      <td>2016-01-05</td>\n",
              "      <td>433.166599</td>\n",
              "      <td>1.009311</td>\n",
              "      <td>1.654511</td>\n",
              "      <td>-17321.634925</td>\n",
              "      <td>0.156768</td>\n",
              "      <td>0.694940</td>\n",
              "      <td>6830653.0</td>\n",
              "      <td>0.812763</td>\n",
              "      <td>7.131518</td>\n",
              "      <td>0.303631</td>\n",
              "      <td>NaN</td>\n",
              "      <td>324.924804</td>\n",
              "      <td>169.652235</td>\n",
              "      <td>0.000679</td>\n",
              "      <td>233.463981</td>\n",
              "      <td>3.024257e+09</td>\n",
              "    </tr>\n",
              "  </tbody>\n",
              "</table>\n",
              "</div>"
            ],
            "text/plain": [
              "         date       price  ...  balanced_price  investor_capitalization\n",
              "0  2016-01-01  434.883982  ...      232.840772             3.017275e+09\n",
              "1  2016-01-02  434.922420  ...      232.941445             3.017969e+09\n",
              "2  2016-01-03  430.999798  ...      233.108481             3.019992e+09\n",
              "3  2016-01-04  433.901991  ...      233.317436             3.022417e+09\n",
              "4  2016-01-05  433.166599  ...      233.463981             3.024257e+09\n",
              "\n",
              "[5 rows x 17 columns]"
            ]
          },
          "metadata": {},
          "execution_count": 60
        }
      ]
    },
    {
      "cell_type": "code",
      "metadata": {
        "colab": {
          "base_uri": "https://localhost:8080/",
          "height": 439
        },
        "id": "24Uyd2oxbyL2",
        "outputId": "2710a324-ba91-44ce-9049-3ab00799e726"
      },
      "source": [
        "\n",
        "#Drop unwanted indicator\n",
        "btc_df = btc_dfa.drop(columns=[\"stablecoin_supply\", \"date\", \"balanced_price\", \"investor_capitalization\", \"exchange_netflow\", \"rhodl\" ])\n",
        "btc_df = btc_df.dropna()\n",
        "btc_df_pct = btc_df.pct_change()\n",
        "btc_df_pct = btc_df_pct.dropna()\n",
        "btc_df_pct\n",
        "\n",
        "btc_df_pct[\"BS\"] =  np.where(btc_df_pct['price']<0, 0, 1)\n",
        "btc_df_pct = btc_df_pct.dropna()\n",
        "#shift 1/0 indicator back 1 so indicators are leading\n",
        "btc_df_pct[\"BS\"] = btc_df_pct[\"BS\"].shift(-1)\n",
        "#drop unwanted data, but preserve for future use in new dataframe\n",
        "btc_df_pct = btc_df_pct.dropna()\n",
        "btc_price = pd.DataFrame(btc_df_pct[\"price\"], columns=['price'])\n",
        "btc_price\n",
        "btc_df_pct = btc_df_pct.drop(columns=[\"price\"])\n",
        "btc_df_pct\n"
      ],
      "execution_count": null,
      "outputs": [
        {
          "output_type": "execute_result",
          "data": {
            "text/html": [
              "<div>\n",
              "<style scoped>\n",
              "    .dataframe tbody tr th:only-of-type {\n",
              "        vertical-align: middle;\n",
              "    }\n",
              "\n",
              "    .dataframe tbody tr th {\n",
              "        vertical-align: top;\n",
              "    }\n",
              "\n",
              "    .dataframe thead th {\n",
              "        text-align: right;\n",
              "    }\n",
              "</style>\n",
              "<table border=\"1\" class=\"dataframe\">\n",
              "  <thead>\n",
              "    <tr style=\"text-align: right;\">\n",
              "      <th></th>\n",
              "      <th>a_sopr</th>\n",
              "      <th>puell_multiple</th>\n",
              "      <th>difficulty_compression_band</th>\n",
              "      <th>mvrv_z_score</th>\n",
              "      <th>nonzero_balance_addresses</th>\n",
              "      <th>%_utxo_in_profit</th>\n",
              "      <th>nvt</th>\n",
              "      <th>nupl</th>\n",
              "      <th>cvdd</th>\n",
              "      <th>rpv</th>\n",
              "      <th>BS</th>\n",
              "    </tr>\n",
              "  </thead>\n",
              "  <tbody>\n",
              "    <tr>\n",
              "      <th>1</th>\n",
              "      <td>-0.011357</td>\n",
              "      <td>0.076049</td>\n",
              "      <td>0.012950</td>\n",
              "      <td>-0.000692</td>\n",
              "      <td>-0.002224</td>\n",
              "      <td>-0.005097</td>\n",
              "      <td>0.001311</td>\n",
              "      <td>-0.006122</td>\n",
              "      <td>-0.000089</td>\n",
              "      <td>-0.506938</td>\n",
              "      <td>0.0</td>\n",
              "    </tr>\n",
              "    <tr>\n",
              "      <th>2</th>\n",
              "      <td>0.009113</td>\n",
              "      <td>-0.008830</td>\n",
              "      <td>0.012483</td>\n",
              "      <td>-0.028989</td>\n",
              "      <td>0.002783</td>\n",
              "      <td>-0.013326</td>\n",
              "      <td>-0.008795</td>\n",
              "      <td>-0.018262</td>\n",
              "      <td>0.000223</td>\n",
              "      <td>1.699055</td>\n",
              "      <td>1.0</td>\n",
              "    </tr>\n",
              "    <tr>\n",
              "      <th>3</th>\n",
              "      <td>0.000521</td>\n",
              "      <td>0.251820</td>\n",
              "      <td>0.012204</td>\n",
              "      <td>0.018821</td>\n",
              "      <td>0.001229</td>\n",
              "      <td>0.008716</td>\n",
              "      <td>0.005673</td>\n",
              "      <td>0.009969</td>\n",
              "      <td>0.000183</td>\n",
              "      <td>-0.032467</td>\n",
              "      <td>0.0</td>\n",
              "    </tr>\n",
              "    <tr>\n",
              "      <th>4</th>\n",
              "      <td>-0.006622</td>\n",
              "      <td>-0.133829</td>\n",
              "      <td>0.011930</td>\n",
              "      <td>-0.006453</td>\n",
              "      <td>0.001150</td>\n",
              "      <td>-0.010395</td>\n",
              "      <td>-0.002158</td>\n",
              "      <td>-0.007136</td>\n",
              "      <td>0.000411</td>\n",
              "      <td>-0.019158</td>\n",
              "      <td>0.0</td>\n",
              "    </tr>\n",
              "    <tr>\n",
              "      <th>5</th>\n",
              "      <td>-0.000262</td>\n",
              "      <td>-0.106262</td>\n",
              "      <td>0.011664</td>\n",
              "      <td>-0.025605</td>\n",
              "      <td>0.001466</td>\n",
              "      <td>-0.008586</td>\n",
              "      <td>-0.004675</td>\n",
              "      <td>-0.009580</td>\n",
              "      <td>0.000246</td>\n",
              "      <td>-0.143638</td>\n",
              "      <td>1.0</td>\n",
              "    </tr>\n",
              "    <tr>\n",
              "      <th>...</th>\n",
              "      <td>...</td>\n",
              "      <td>...</td>\n",
              "      <td>...</td>\n",
              "      <td>...</td>\n",
              "      <td>...</td>\n",
              "      <td>...</td>\n",
              "      <td>...</td>\n",
              "      <td>...</td>\n",
              "      <td>...</td>\n",
              "      <td>...</td>\n",
              "      <td>...</td>\n",
              "    </tr>\n",
              "    <tr>\n",
              "      <th>2156</th>\n",
              "      <td>-0.071736</td>\n",
              "      <td>-0.034950</td>\n",
              "      <td>-0.004072</td>\n",
              "      <td>-0.150081</td>\n",
              "      <td>0.001221</td>\n",
              "      <td>-0.051466</td>\n",
              "      <td>-0.045221</td>\n",
              "      <td>-0.067095</td>\n",
              "      <td>0.001612</td>\n",
              "      <td>-0.778106</td>\n",
              "      <td>1.0</td>\n",
              "    </tr>\n",
              "    <tr>\n",
              "      <th>2157</th>\n",
              "      <td>0.007310</td>\n",
              "      <td>0.066665</td>\n",
              "      <td>-0.003891</td>\n",
              "      <td>0.025221</td>\n",
              "      <td>0.002525</td>\n",
              "      <td>0.005303</td>\n",
              "      <td>-0.006675</td>\n",
              "      <td>0.012095</td>\n",
              "      <td>0.000240</td>\n",
              "      <td>-0.650186</td>\n",
              "      <td>1.0</td>\n",
              "    </tr>\n",
              "    <tr>\n",
              "      <th>2158</th>\n",
              "      <td>0.012680</td>\n",
              "      <td>-0.032295</td>\n",
              "      <td>-0.015690</td>\n",
              "      <td>0.084864</td>\n",
              "      <td>-0.000093</td>\n",
              "      <td>0.029695</td>\n",
              "      <td>0.013398</td>\n",
              "      <td>0.037445</td>\n",
              "      <td>0.000764</td>\n",
              "      <td>0.990592</td>\n",
              "      <td>1.0</td>\n",
              "    </tr>\n",
              "    <tr>\n",
              "      <th>2159</th>\n",
              "      <td>0.016144</td>\n",
              "      <td>0.084099</td>\n",
              "      <td>-0.012804</td>\n",
              "      <td>0.021979</td>\n",
              "      <td>0.000927</td>\n",
              "      <td>0.008309</td>\n",
              "      <td>0.060764</td>\n",
              "      <td>0.006474</td>\n",
              "      <td>0.001366</td>\n",
              "      <td>1.177779</td>\n",
              "      <td>0.0</td>\n",
              "    </tr>\n",
              "    <tr>\n",
              "      <th>2160</th>\n",
              "      <td>-0.015896</td>\n",
              "      <td>-0.069008</td>\n",
              "      <td>-0.012363</td>\n",
              "      <td>-0.025050</td>\n",
              "      <td>0.002284</td>\n",
              "      <td>-0.016264</td>\n",
              "      <td>-0.004489</td>\n",
              "      <td>-0.012317</td>\n",
              "      <td>0.001341</td>\n",
              "      <td>-0.123023</td>\n",
              "      <td>1.0</td>\n",
              "    </tr>\n",
              "  </tbody>\n",
              "</table>\n",
              "<p>2160 rows × 11 columns</p>\n",
              "</div>"
            ],
            "text/plain": [
              "        a_sopr  puell_multiple  ...       rpv   BS\n",
              "1    -0.011357        0.076049  ... -0.506938  0.0\n",
              "2     0.009113       -0.008830  ...  1.699055  1.0\n",
              "3     0.000521        0.251820  ... -0.032467  0.0\n",
              "4    -0.006622       -0.133829  ... -0.019158  0.0\n",
              "5    -0.000262       -0.106262  ... -0.143638  1.0\n",
              "...        ...             ...  ...       ...  ...\n",
              "2156 -0.071736       -0.034950  ... -0.778106  1.0\n",
              "2157  0.007310        0.066665  ... -0.650186  1.0\n",
              "2158  0.012680       -0.032295  ...  0.990592  1.0\n",
              "2159  0.016144        0.084099  ...  1.177779  0.0\n",
              "2160 -0.015896       -0.069008  ... -0.123023  1.0\n",
              "\n",
              "[2160 rows x 11 columns]"
            ]
          },
          "metadata": {},
          "execution_count": 62
        }
      ]
    },
    {
      "cell_type": "code",
      "metadata": {
        "colab": {
          "base_uri": "https://localhost:8080/",
          "height": 224
        },
        "id": "04LjVIXld1sC",
        "outputId": "35c9dd9f-e359-4a21-fa90-4eca1c9962ee"
      },
      "source": [
        "# Define features set X by selecting all columns but DEFAULT\n",
        "X = btc_df_pct.drop(columns=[\"BS\"]).copy()\n",
        "\n",
        "# Display the features DataFrame\n",
        "X.head()"
      ],
      "execution_count": null,
      "outputs": [
        {
          "output_type": "execute_result",
          "data": {
            "text/html": [
              "<div>\n",
              "<style scoped>\n",
              "    .dataframe tbody tr th:only-of-type {\n",
              "        vertical-align: middle;\n",
              "    }\n",
              "\n",
              "    .dataframe tbody tr th {\n",
              "        vertical-align: top;\n",
              "    }\n",
              "\n",
              "    .dataframe thead th {\n",
              "        text-align: right;\n",
              "    }\n",
              "</style>\n",
              "<table border=\"1\" class=\"dataframe\">\n",
              "  <thead>\n",
              "    <tr style=\"text-align: right;\">\n",
              "      <th></th>\n",
              "      <th>a_sopr</th>\n",
              "      <th>puell_multiple</th>\n",
              "      <th>difficulty_compression_band</th>\n",
              "      <th>mvrv_z_score</th>\n",
              "      <th>nonzero_balance_addresses</th>\n",
              "      <th>%_utxo_in_profit</th>\n",
              "      <th>nvt</th>\n",
              "      <th>nupl</th>\n",
              "      <th>cvdd</th>\n",
              "      <th>rpv</th>\n",
              "    </tr>\n",
              "  </thead>\n",
              "  <tbody>\n",
              "    <tr>\n",
              "      <th>1</th>\n",
              "      <td>-0.011357</td>\n",
              "      <td>0.076049</td>\n",
              "      <td>0.012950</td>\n",
              "      <td>-0.000692</td>\n",
              "      <td>-0.002224</td>\n",
              "      <td>-0.005097</td>\n",
              "      <td>0.001311</td>\n",
              "      <td>-0.006122</td>\n",
              "      <td>-0.000089</td>\n",
              "      <td>-0.506938</td>\n",
              "    </tr>\n",
              "    <tr>\n",
              "      <th>2</th>\n",
              "      <td>0.009113</td>\n",
              "      <td>-0.008830</td>\n",
              "      <td>0.012483</td>\n",
              "      <td>-0.028989</td>\n",
              "      <td>0.002783</td>\n",
              "      <td>-0.013326</td>\n",
              "      <td>-0.008795</td>\n",
              "      <td>-0.018262</td>\n",
              "      <td>0.000223</td>\n",
              "      <td>1.699055</td>\n",
              "    </tr>\n",
              "    <tr>\n",
              "      <th>3</th>\n",
              "      <td>0.000521</td>\n",
              "      <td>0.251820</td>\n",
              "      <td>0.012204</td>\n",
              "      <td>0.018821</td>\n",
              "      <td>0.001229</td>\n",
              "      <td>0.008716</td>\n",
              "      <td>0.005673</td>\n",
              "      <td>0.009969</td>\n",
              "      <td>0.000183</td>\n",
              "      <td>-0.032467</td>\n",
              "    </tr>\n",
              "    <tr>\n",
              "      <th>4</th>\n",
              "      <td>-0.006622</td>\n",
              "      <td>-0.133829</td>\n",
              "      <td>0.011930</td>\n",
              "      <td>-0.006453</td>\n",
              "      <td>0.001150</td>\n",
              "      <td>-0.010395</td>\n",
              "      <td>-0.002158</td>\n",
              "      <td>-0.007136</td>\n",
              "      <td>0.000411</td>\n",
              "      <td>-0.019158</td>\n",
              "    </tr>\n",
              "    <tr>\n",
              "      <th>5</th>\n",
              "      <td>-0.000262</td>\n",
              "      <td>-0.106262</td>\n",
              "      <td>0.011664</td>\n",
              "      <td>-0.025605</td>\n",
              "      <td>0.001466</td>\n",
              "      <td>-0.008586</td>\n",
              "      <td>-0.004675</td>\n",
              "      <td>-0.009580</td>\n",
              "      <td>0.000246</td>\n",
              "      <td>-0.143638</td>\n",
              "    </tr>\n",
              "  </tbody>\n",
              "</table>\n",
              "</div>"
            ],
            "text/plain": [
              "     a_sopr  puell_multiple  ...      cvdd       rpv\n",
              "1 -0.011357        0.076049  ... -0.000089 -0.506938\n",
              "2  0.009113       -0.008830  ...  0.000223  1.699055\n",
              "3  0.000521        0.251820  ...  0.000183 -0.032467\n",
              "4 -0.006622       -0.133829  ...  0.000411 -0.019158\n",
              "5 -0.000262       -0.106262  ...  0.000246 -0.143638\n",
              "\n",
              "[5 rows x 10 columns]"
            ]
          },
          "metadata": {},
          "execution_count": 63
        }
      ]
    },
    {
      "cell_type": "code",
      "metadata": {
        "colab": {
          "base_uri": "https://localhost:8080/"
        },
        "id": "i5X0QjsJeEgt",
        "outputId": "5e6017eb-5bb4-4b81-edb6-6fbe0aeb540f"
      },
      "source": [
        "# Define target set by selecting the DEFAULT column\n",
        "y = btc_df_pct[\"BS\"]\n",
        "\n",
        "# Display a sample y\n",
        "y[:5]"
      ],
      "execution_count": null,
      "outputs": [
        {
          "output_type": "execute_result",
          "data": {
            "text/plain": [
              "1    0.0\n",
              "2    1.0\n",
              "3    0.0\n",
              "4    0.0\n",
              "5    1.0\n",
              "Name: BS, dtype: float64"
            ]
          },
          "metadata": {},
          "execution_count": 64
        }
      ]
    },
    {
      "cell_type": "code",
      "metadata": {
        "id": "R04mFLMjeQ2S"
      },
      "source": [
        "# Create training and testing datasets using train_test_split\n",
        "# Assign the function a random_state equal to 1\n",
        "X_train, X_test, y_train, y_test = train_test_split(X, y, random_state=1)"
      ],
      "execution_count": null,
      "outputs": []
    },
    {
      "cell_type": "code",
      "metadata": {
        "id": "QKNf14lSeTWg"
      },
      "source": [
        "# Create the StandardScaler instance\n",
        "X_scaler = StandardScaler()"
      ],
      "execution_count": null,
      "outputs": []
    },
    {
      "cell_type": "code",
      "metadata": {
        "colab": {
          "base_uri": "https://localhost:8080/"
        },
        "id": "BhVyi1lWeVd3",
        "outputId": "cd0a93b9-05c7-4ef8-a89e-8bb28c8cf196"
      },
      "source": [
        "# Fit the scaler to the features training dataset\n",
        "X_scaler.fit(X_train)"
      ],
      "execution_count": null,
      "outputs": [
        {
          "output_type": "execute_result",
          "data": {
            "text/plain": [
              "StandardScaler()"
            ]
          },
          "metadata": {},
          "execution_count": 67
        }
      ]
    },
    {
      "cell_type": "code",
      "metadata": {
        "id": "2fnM0gyEeX9d"
      },
      "source": [
        "# Scale both the training and testing data from the features dataset\n",
        "X_train_scaled = X_scaler.transform(X_train)\n",
        "X_test_scaled = X_scaler.transform(X_test)"
      ],
      "execution_count": null,
      "outputs": []
    },
    {
      "cell_type": "code",
      "metadata": {
        "id": "ZBZ-ko68ecsn"
      },
      "source": [
        "# Imports\n",
        "import tensorflow as tf\n",
        "from tensorflow.keras.layers import Dense\n",
        "from tensorflow.keras.models import Sequential"
      ],
      "execution_count": null,
      "outputs": []
    },
    {
      "cell_type": "code",
      "metadata": {
        "id": "IxbWtPJFefTw"
      },
      "source": [
        "# Define the the number of inputs to the model\n",
        "number_inputs = 10\n",
        "\n",
        "# Define the number of hidden nodes for the model\n",
        "number_hidden_nodes = 7\n",
        "\n",
        "# Create the Sequential model instance\n",
        "neuron = Sequential()\n",
        "\n",
        "# Add a Dense layer specifying the number of inputs, the number of hidden nodes, and the activation function\n",
        "neuron.add(Dense(units=number_hidden_nodes, input_dim=number_inputs, activation=\"relu\"))\n",
        "\n",
        "# Add the output layer to the model specifying the number of output neurons and activation function\n",
        "neuron.add(Dense(1, activation=\"sigmoid\"))"
      ],
      "execution_count": null,
      "outputs": []
    },
    {
      "cell_type": "code",
      "metadata": {
        "colab": {
          "base_uri": "https://localhost:8080/"
        },
        "id": "bOzaGcQSegbk",
        "outputId": "d65d3141-3b3c-4853-f982-2ad0d9b31f57"
      },
      "source": [
        "neuron.summary()"
      ],
      "execution_count": null,
      "outputs": [
        {
          "output_type": "stream",
          "name": "stdout",
          "text": [
            "Model: \"sequential_4\"\n",
            "_________________________________________________________________\n",
            " Layer (type)                Output Shape              Param #   \n",
            "=================================================================\n",
            " dense_8 (Dense)             (None, 7)                 77        \n",
            "                                                                 \n",
            " dense_9 (Dense)             (None, 1)                 8         \n",
            "                                                                 \n",
            "=================================================================\n",
            "Total params: 85\n",
            "Trainable params: 85\n",
            "Non-trainable params: 0\n",
            "_________________________________________________________________\n"
          ]
        }
      ]
    },
    {
      "cell_type": "code",
      "metadata": {
        "id": "NEdCMk-menkD"
      },
      "source": [
        "# Imports\n",
        "import pandas as pd\n",
        "import tensorflow as tf\n",
        "from tensorflow.keras.layers import Dense\n",
        "from tensorflow.keras.models import Sequential\n",
        "from sklearn.preprocessing import StandardScaler\n",
        "from sklearn.model_selection import train_test_split\n",
        "\n",
        "%matplotlib inline"
      ],
      "execution_count": null,
      "outputs": []
    },
    {
      "cell_type": "code",
      "metadata": {
        "id": "KNMSstHOeoaE"
      },
      "source": [
        "# Compile the Sequential model\n",
        "neuron.compile(loss=\"binary_crossentropy\", optimizer=\"adam\", metrics=[\"accuracy\"])"
      ],
      "execution_count": null,
      "outputs": []
    },
    {
      "cell_type": "code",
      "metadata": {
        "colab": {
          "base_uri": "https://localhost:8080/"
        },
        "id": "5LJpvycnesbD",
        "outputId": "529bc44a-0701-48b8-c1fc-84a2f1df8e42"
      },
      "source": [
        "# Fit the model using 100 epochs and the training data\n",
        "model = neuron.fit(X_train_scaled, y_train, epochs=100)"
      ],
      "execution_count": null,
      "outputs": [
        {
          "output_type": "stream",
          "name": "stdout",
          "text": [
            "Epoch 1/100\n",
            "51/51 [==============================] - 1s 2ms/step - loss: 0.7402 - accuracy: 0.4685\n",
            "Epoch 2/100\n",
            "51/51 [==============================] - 0s 2ms/step - loss: 0.7178 - accuracy: 0.4858\n",
            "Epoch 3/100\n",
            "51/51 [==============================] - 0s 2ms/step - loss: 0.7068 - accuracy: 0.4926\n",
            "Epoch 4/100\n",
            "51/51 [==============================] - 0s 2ms/step - loss: 0.7004 - accuracy: 0.5099\n",
            "Epoch 5/100\n",
            "51/51 [==============================] - 0s 2ms/step - loss: 0.6967 - accuracy: 0.5253\n",
            "Epoch 6/100\n",
            "51/51 [==============================] - 0s 2ms/step - loss: 0.6942 - accuracy: 0.5302\n",
            "Epoch 7/100\n",
            "51/51 [==============================] - 0s 2ms/step - loss: 0.6926 - accuracy: 0.5401\n",
            "Epoch 8/100\n",
            "51/51 [==============================] - 0s 2ms/step - loss: 0.6916 - accuracy: 0.5432\n",
            "Epoch 9/100\n",
            "51/51 [==============================] - 0s 2ms/step - loss: 0.6904 - accuracy: 0.5506\n",
            "Epoch 10/100\n",
            "51/51 [==============================] - 0s 2ms/step - loss: 0.6896 - accuracy: 0.5543\n",
            "Epoch 11/100\n",
            "51/51 [==============================] - 0s 2ms/step - loss: 0.6889 - accuracy: 0.5512\n",
            "Epoch 12/100\n",
            "51/51 [==============================] - 0s 2ms/step - loss: 0.6882 - accuracy: 0.5568\n",
            "Epoch 13/100\n",
            "51/51 [==============================] - 0s 2ms/step - loss: 0.6875 - accuracy: 0.5580\n",
            "Epoch 14/100\n",
            "51/51 [==============================] - 0s 2ms/step - loss: 0.6870 - accuracy: 0.5605\n",
            "Epoch 15/100\n",
            "51/51 [==============================] - 0s 2ms/step - loss: 0.6867 - accuracy: 0.5574\n",
            "Epoch 16/100\n",
            "51/51 [==============================] - 0s 2ms/step - loss: 0.6861 - accuracy: 0.5605\n",
            "Epoch 17/100\n",
            "51/51 [==============================] - 0s 2ms/step - loss: 0.6856 - accuracy: 0.5574\n",
            "Epoch 18/100\n",
            "51/51 [==============================] - 0s 2ms/step - loss: 0.6854 - accuracy: 0.5617\n",
            "Epoch 19/100\n",
            "51/51 [==============================] - 0s 2ms/step - loss: 0.6850 - accuracy: 0.5593\n",
            "Epoch 20/100\n",
            "51/51 [==============================] - 0s 2ms/step - loss: 0.6846 - accuracy: 0.5599\n",
            "Epoch 21/100\n",
            "51/51 [==============================] - 0s 1ms/step - loss: 0.6843 - accuracy: 0.5623\n",
            "Epoch 22/100\n",
            "51/51 [==============================] - 0s 2ms/step - loss: 0.6839 - accuracy: 0.5623\n",
            "Epoch 23/100\n",
            "51/51 [==============================] - 0s 2ms/step - loss: 0.6836 - accuracy: 0.5654\n",
            "Epoch 24/100\n",
            "51/51 [==============================] - 0s 2ms/step - loss: 0.6834 - accuracy: 0.5611\n",
            "Epoch 25/100\n",
            "51/51 [==============================] - 0s 2ms/step - loss: 0.6831 - accuracy: 0.5636\n",
            "Epoch 26/100\n",
            "51/51 [==============================] - 0s 2ms/step - loss: 0.6829 - accuracy: 0.5636\n",
            "Epoch 27/100\n",
            "51/51 [==============================] - 0s 2ms/step - loss: 0.6827 - accuracy: 0.5623\n",
            "Epoch 28/100\n",
            "51/51 [==============================] - 0s 2ms/step - loss: 0.6825 - accuracy: 0.5654\n",
            "Epoch 29/100\n",
            "51/51 [==============================] - 0s 2ms/step - loss: 0.6822 - accuracy: 0.5654\n",
            "Epoch 30/100\n",
            "51/51 [==============================] - 0s 2ms/step - loss: 0.6822 - accuracy: 0.5648\n",
            "Epoch 31/100\n",
            "51/51 [==============================] - 0s 2ms/step - loss: 0.6819 - accuracy: 0.5679\n",
            "Epoch 32/100\n",
            "51/51 [==============================] - 0s 2ms/step - loss: 0.6818 - accuracy: 0.5660\n",
            "Epoch 33/100\n",
            "51/51 [==============================] - 0s 1ms/step - loss: 0.6816 - accuracy: 0.5654\n",
            "Epoch 34/100\n",
            "51/51 [==============================] - 0s 2ms/step - loss: 0.6814 - accuracy: 0.5679\n",
            "Epoch 35/100\n",
            "51/51 [==============================] - 0s 2ms/step - loss: 0.6812 - accuracy: 0.5710\n",
            "Epoch 36/100\n",
            "51/51 [==============================] - 0s 1ms/step - loss: 0.6810 - accuracy: 0.5698\n",
            "Epoch 37/100\n",
            "51/51 [==============================] - 0s 2ms/step - loss: 0.6808 - accuracy: 0.5685\n",
            "Epoch 38/100\n",
            "51/51 [==============================] - 0s 1ms/step - loss: 0.6806 - accuracy: 0.5654\n",
            "Epoch 39/100\n",
            "51/51 [==============================] - 0s 2ms/step - loss: 0.6805 - accuracy: 0.5673\n",
            "Epoch 40/100\n",
            "51/51 [==============================] - 0s 1ms/step - loss: 0.6803 - accuracy: 0.5704\n",
            "Epoch 41/100\n",
            "51/51 [==============================] - 0s 2ms/step - loss: 0.6802 - accuracy: 0.5679\n",
            "Epoch 42/100\n",
            "51/51 [==============================] - 0s 1ms/step - loss: 0.6801 - accuracy: 0.5648\n",
            "Epoch 43/100\n",
            "51/51 [==============================] - 0s 2ms/step - loss: 0.6799 - accuracy: 0.5679\n",
            "Epoch 44/100\n",
            "51/51 [==============================] - 0s 2ms/step - loss: 0.6800 - accuracy: 0.5673\n",
            "Epoch 45/100\n",
            "51/51 [==============================] - 0s 2ms/step - loss: 0.6797 - accuracy: 0.5660\n",
            "Epoch 46/100\n",
            "51/51 [==============================] - 0s 2ms/step - loss: 0.6796 - accuracy: 0.5667\n",
            "Epoch 47/100\n",
            "51/51 [==============================] - 0s 2ms/step - loss: 0.6794 - accuracy: 0.5673\n",
            "Epoch 48/100\n",
            "51/51 [==============================] - 0s 2ms/step - loss: 0.6796 - accuracy: 0.5617\n",
            "Epoch 49/100\n",
            "51/51 [==============================] - 0s 1ms/step - loss: 0.6791 - accuracy: 0.5679\n",
            "Epoch 50/100\n",
            "51/51 [==============================] - 0s 2ms/step - loss: 0.6791 - accuracy: 0.5704\n",
            "Epoch 51/100\n",
            "51/51 [==============================] - 0s 2ms/step - loss: 0.6790 - accuracy: 0.5722\n",
            "Epoch 52/100\n",
            "51/51 [==============================] - 0s 2ms/step - loss: 0.6789 - accuracy: 0.5704\n",
            "Epoch 53/100\n",
            "51/51 [==============================] - 0s 2ms/step - loss: 0.6788 - accuracy: 0.5710\n",
            "Epoch 54/100\n",
            "51/51 [==============================] - 0s 2ms/step - loss: 0.6786 - accuracy: 0.5698\n",
            "Epoch 55/100\n",
            "51/51 [==============================] - 0s 2ms/step - loss: 0.6785 - accuracy: 0.5741\n",
            "Epoch 56/100\n",
            "51/51 [==============================] - 0s 2ms/step - loss: 0.6784 - accuracy: 0.5735\n",
            "Epoch 57/100\n",
            "51/51 [==============================] - 0s 2ms/step - loss: 0.6783 - accuracy: 0.5728\n",
            "Epoch 58/100\n",
            "51/51 [==============================] - 0s 1ms/step - loss: 0.6783 - accuracy: 0.5722\n",
            "Epoch 59/100\n",
            "51/51 [==============================] - 0s 2ms/step - loss: 0.6781 - accuracy: 0.5741\n",
            "Epoch 60/100\n",
            "51/51 [==============================] - 0s 2ms/step - loss: 0.6783 - accuracy: 0.5765\n",
            "Epoch 61/100\n",
            "51/51 [==============================] - 0s 2ms/step - loss: 0.6781 - accuracy: 0.5747\n",
            "Epoch 62/100\n",
            "51/51 [==============================] - 0s 2ms/step - loss: 0.6779 - accuracy: 0.5747\n",
            "Epoch 63/100\n",
            "51/51 [==============================] - 0s 2ms/step - loss: 0.6779 - accuracy: 0.5741\n",
            "Epoch 64/100\n",
            "51/51 [==============================] - 0s 2ms/step - loss: 0.6781 - accuracy: 0.5765\n",
            "Epoch 65/100\n",
            "51/51 [==============================] - 0s 2ms/step - loss: 0.6777 - accuracy: 0.5759\n",
            "Epoch 66/100\n",
            "51/51 [==============================] - 0s 2ms/step - loss: 0.6777 - accuracy: 0.5759\n",
            "Epoch 67/100\n",
            "51/51 [==============================] - 0s 1ms/step - loss: 0.6777 - accuracy: 0.5796\n",
            "Epoch 68/100\n",
            "51/51 [==============================] - 0s 1ms/step - loss: 0.6775 - accuracy: 0.5772\n",
            "Epoch 69/100\n",
            "51/51 [==============================] - 0s 1ms/step - loss: 0.6775 - accuracy: 0.5747\n",
            "Epoch 70/100\n",
            "51/51 [==============================] - 0s 1ms/step - loss: 0.6774 - accuracy: 0.5796\n",
            "Epoch 71/100\n",
            "51/51 [==============================] - 0s 2ms/step - loss: 0.6776 - accuracy: 0.5753\n",
            "Epoch 72/100\n",
            "51/51 [==============================] - 0s 2ms/step - loss: 0.6773 - accuracy: 0.5796\n",
            "Epoch 73/100\n",
            "51/51 [==============================] - 0s 2ms/step - loss: 0.6774 - accuracy: 0.5784\n",
            "Epoch 74/100\n",
            "51/51 [==============================] - 0s 2ms/step - loss: 0.6772 - accuracy: 0.5772\n",
            "Epoch 75/100\n",
            "51/51 [==============================] - 0s 2ms/step - loss: 0.6771 - accuracy: 0.5759\n",
            "Epoch 76/100\n",
            "51/51 [==============================] - 0s 2ms/step - loss: 0.6770 - accuracy: 0.5809\n",
            "Epoch 77/100\n",
            "51/51 [==============================] - 0s 2ms/step - loss: 0.6770 - accuracy: 0.5809\n",
            "Epoch 78/100\n",
            "51/51 [==============================] - 0s 2ms/step - loss: 0.6769 - accuracy: 0.5765\n",
            "Epoch 79/100\n",
            "51/51 [==============================] - 0s 2ms/step - loss: 0.6768 - accuracy: 0.5765\n",
            "Epoch 80/100\n",
            "51/51 [==============================] - 0s 2ms/step - loss: 0.6768 - accuracy: 0.5796\n",
            "Epoch 81/100\n",
            "51/51 [==============================] - 0s 2ms/step - loss: 0.6767 - accuracy: 0.5778\n",
            "Epoch 82/100\n",
            "51/51 [==============================] - 0s 1ms/step - loss: 0.6767 - accuracy: 0.5778\n",
            "Epoch 83/100\n",
            "51/51 [==============================] - 0s 2ms/step - loss: 0.6766 - accuracy: 0.5809\n",
            "Epoch 84/100\n",
            "51/51 [==============================] - 0s 2ms/step - loss: 0.6765 - accuracy: 0.5772\n",
            "Epoch 85/100\n",
            "51/51 [==============================] - 0s 2ms/step - loss: 0.6764 - accuracy: 0.5815\n",
            "Epoch 86/100\n",
            "51/51 [==============================] - 0s 2ms/step - loss: 0.6764 - accuracy: 0.5802\n",
            "Epoch 87/100\n",
            "51/51 [==============================] - 0s 2ms/step - loss: 0.6765 - accuracy: 0.5796\n",
            "Epoch 88/100\n",
            "51/51 [==============================] - 0s 2ms/step - loss: 0.6764 - accuracy: 0.5772\n",
            "Epoch 89/100\n",
            "51/51 [==============================] - 0s 2ms/step - loss: 0.6763 - accuracy: 0.5802\n",
            "Epoch 90/100\n",
            "51/51 [==============================] - 0s 2ms/step - loss: 0.6763 - accuracy: 0.5790\n",
            "Epoch 91/100\n",
            "51/51 [==============================] - 0s 2ms/step - loss: 0.6761 - accuracy: 0.5796\n",
            "Epoch 92/100\n",
            "51/51 [==============================] - 0s 2ms/step - loss: 0.6760 - accuracy: 0.5790\n",
            "Epoch 93/100\n",
            "51/51 [==============================] - 0s 2ms/step - loss: 0.6758 - accuracy: 0.5796\n",
            "Epoch 94/100\n",
            "51/51 [==============================] - 0s 2ms/step - loss: 0.6760 - accuracy: 0.5784\n",
            "Epoch 95/100\n",
            "51/51 [==============================] - 0s 2ms/step - loss: 0.6759 - accuracy: 0.5790\n",
            "Epoch 96/100\n",
            "51/51 [==============================] - 0s 2ms/step - loss: 0.6758 - accuracy: 0.5827\n",
            "Epoch 97/100\n",
            "51/51 [==============================] - 0s 2ms/step - loss: 0.6757 - accuracy: 0.5809\n",
            "Epoch 98/100\n",
            "51/51 [==============================] - 0s 2ms/step - loss: 0.6756 - accuracy: 0.5809\n",
            "Epoch 99/100\n",
            "51/51 [==============================] - 0s 2ms/step - loss: 0.6755 - accuracy: 0.5759\n",
            "Epoch 100/100\n",
            "51/51 [==============================] - 0s 2ms/step - loss: 0.6755 - accuracy: 0.5765\n"
          ]
        }
      ]
    },
    {
      "cell_type": "code",
      "metadata": {
        "id": "AAieVi0IZ1bn"
      },
      "source": [
        "# Create a DataFrame using the model history and an index parameter\n",
        "model_plot = pd.DataFrame(model.history, index=range(1, len(model.history[\"loss\"]) + 1))"
      ],
      "execution_count": null,
      "outputs": []
    },
    {
      "cell_type": "code",
      "metadata": {
        "colab": {
          "base_uri": "https://localhost:8080/",
          "height": 282
        },
        "id": "d_iqzR_0Z5m6",
        "outputId": "70fa0978-2460-457c-f5a6-1d0c6b01305b"
      },
      "source": [
        "# Vizualize the model plot where the y-axis displays the loss metric\n",
        "model_plot.plot(y=\"loss\")"
      ],
      "execution_count": null,
      "outputs": [
        {
          "output_type": "execute_result",
          "data": {
            "text/plain": [
              "<matplotlib.axes._subplots.AxesSubplot at 0x7fc67a7233d0>"
            ]
          },
          "metadata": {},
          "execution_count": 54
        },
        {
          "output_type": "display_data",
          "data": {
            "image/png": "[encoded data removed]",
            "text/plain": [
              "<Figure size 432x288 with 1 Axes>"
            ]
          },
          "metadata": {
            "needs_background": "light"
          }
        }
      ]
    },
    {
      "cell_type": "code",
      "metadata": {
        "colab": {
          "base_uri": "https://localhost:8080/",
          "height": 282
        },
        "id": "E5En85WTZ9xv",
        "outputId": "91cbee3e-9496-45b2-aac2-d2cc1d48b94a"
      },
      "source": [
        "# Vizualize the model plot where the y-axis displays the accuracy metric\n",
        "model_plot.plot(y=\"accuracy\")"
      ],
      "execution_count": null,
      "outputs": [
        {
          "output_type": "execute_result",
          "data": {
            "text/plain": [
              "<matplotlib.axes._subplots.AxesSubplot at 0x7fc67a75d310>"
            ]
          },
          "metadata": {},
          "execution_count": 55
        },
        {
          "output_type": "display_data",
          "data": {
            "image/png": "[encoded data removed]",
            "text/plain": [
              "<Figure size 432x288 with 1 Axes>"
            ]
          },
          "metadata": {
            "needs_background": "light"
          }
        }
      ]
    },
    {
      "cell_type": "code",
      "metadata": {
        "colab": {
          "base_uri": "https://localhost:8080/"
        },
        "id": "Y2xpPEcCaIVb",
        "outputId": "a111685a-512d-464a-f20e-fd4c3ea12678"
      },
      "source": [
        "# Evaluate the model loss and accuracy metrics using the evaluate method and the test data\n",
        "model_loss, model_accuracy = neuron.evaluate(X_test_scaled, y_test, verbose=2)\n",
        "\n",
        "# Display the evaluation results\n",
        "print(f\"Loss: {model_loss}, Accuracy: {model_accuracy}\")"
      ],
      "execution_count": null,
      "outputs": [
        {
          "output_type": "stream",
          "name": "stdout",
          "text": [
            "17/17 - 0s - loss: 0.6964 - accuracy: 0.5352 - 127ms/epoch - 7ms/step\n",
            "Loss: 0.6964443922042847, Accuracy: 0.5351851582527161\n"
          ]
        }
      ]
    }
  ]
}